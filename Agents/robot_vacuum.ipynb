{
 "cells": [
  {
   "cell_type": "markdown",
   "metadata": {},
   "source": [
    "# Intelligent Agents: Reflex-Based Agents for the Vacuum-cleaner World\n",
    "\n",
    "\n",
    "## Instructions\n",
    "\n",
    "Total Points: Undergrads 100 / Graduate students 110\n",
    "\n",
    "Complete this notebook. Use the provided notebook cells and insert additional code and markdown cells as needed. Submit the completely rendered notebook as a PDF file. \n",
    "\n",
    "## Introduction\n",
    "\n",
    "In this assignment you will implement a simulator environment for an automatic vacuum cleaner robot, a set of different reflex-based agent programs, and perform a comparison study for cleaning a single room. Focus on the __cleaning phase__ which starts when the robot is activated and ends when the last dirty square in the room has been cleaned. Someone else will take care of the agent program needed to navigate back to the charging station after the room is clean.\n",
    "\n",
    "## PEAS description of the cleaning phase\n",
    "\n",
    "__Performance Measure:__ Each action costs 1 energy unit. The performance is measured as the sum of the energy units used to clean the whole room.\n",
    "\n",
    "__Environment:__ A room with $n \\times n$ squares where $n = 5$. Dirt is randomly placed on each square with probability $p = 0.2$. For simplicity, you can assume that the agent knows the size and the layout of the room (i.e., it knows $n$). To start, the agent is placed on a random square.\n",
    "\n",
    "__Actuators:__ The agent can clean the current square (action `suck`) or move to an adjacent square by going `north`, `east`, `south`, or `west`.\n",
    "\n",
    "__Sensors:__ Four bumper sensors, one for north, east, south, and west; a dirt sensor reporting dirt in the current square.  \n",
    "\n",
    "\n",
    "## The agent program for a simple randomized agent\n",
    "\n",
    "The agent program is a function that gets sensor information (the current percepts) as the arguments. The arguments are:\n",
    "\n",
    "* A dictionary with boolean entries for the for bumper sensors `north`, `east`, `west`, `south`. E.g., if the agent is on the north-west corner, `bumpers` will be `{\"north\" : True, \"east\" : False, \"south\" : False, \"west\" : True}`.\n",
    "* The dirt sensor produces a boolean.\n",
    "\n",
    "The agent returns the chosen action as a string.\n",
    "\n",
    "Here is an example implementation for the agent program of a simple randomized agent:  "
   ]
  },
  {
   "cell_type": "code",
   "execution_count": 183,
   "metadata": {},
   "outputs": [],
   "source": [
    "import numpy as np\n",
    "\n",
    "actions = [\"north\", \"east\", \"west\", \"south\", \"suck\"]\n",
    "\n",
    "def simple_randomized_agent(bumpers, dirty):\n",
    "    return np.random.choice(actions)"
   ]
  },
  {
   "cell_type": "code",
   "execution_count": 184,
   "metadata": {},
   "outputs": [
    {
     "data": {
      "text/plain": [
       "'south'"
      ]
     },
     "execution_count": 184,
     "metadata": {},
     "output_type": "execute_result"
    }
   ],
   "source": [
    "# define percepts (current location is NW corner and it is dirty)\n",
    "bumpers = {\"north\" : True, \"east\" : False, \"south\" : False, \"west\" : True}\n",
    "dirty = True\n",
    "\n",
    "# call agent program function with percepts and it returns an action\n",
    "simple_randomized_agent(bumpers, dirty)"
   ]
  },
  {
   "cell_type": "markdown",
   "metadata": {},
   "source": [
    "__Note:__ This is not a rational intelligent agent. It ignores its sensors and may bump into a wall repeatedly or not clean a dirty square. You will be asked to implement rational agents below."
   ]
  },
  {
   "cell_type": "markdown",
   "metadata": {},
   "source": [
    "## Simple environment example\n",
    "\n",
    "We implement a simple simulation environment that supplies the agent with its percepts.\n",
    "The simple environment is infinite in size (bumpers are always `False`) and every square is always dirty, even if the agent cleans it. The environment function returns a performance measure which is here the number of cleaned squares (since the room is infinite and all squares are constantly dirty, the agent can never clean the whole room as required in the PEAS description above). The energy budget of the agent is specified as `max_steps`. "
   ]
  },
  {
   "cell_type": "code",
   "execution_count": 185,
   "metadata": {},
   "outputs": [],
   "source": [
    "def simple_environment(agent, max_steps, verbose = False):\n",
    "    num_cleaned = 0\n",
    "    \n",
    "    for i in range(max_steps):\n",
    "        dirty = True\n",
    "        bumpers = {\"north\" : False, \"south\" : False, \"west\" : False, \"east\" : False}\n",
    "\n",
    "        action = agent(bumpers, dirty)\n",
    "        if (verbose): print(\"step\", i , \"- action:\", action) \n",
    "        \n",
    "        if (action == \"suck\"): \n",
    "            num_cleaned = num_cleaned + 1\n",
    "        \n",
    "    return num_cleaned"
   ]
  },
  {
   "cell_type": "markdown",
   "metadata": {},
   "source": [
    "Do one simulation run with a simple randomized agent that has enough energy for 20 steps."
   ]
  },
  {
   "cell_type": "code",
   "execution_count": 186,
   "metadata": {},
   "outputs": [
    {
     "data": {
      "text/plain": [
       "2"
      ]
     },
     "execution_count": 186,
     "metadata": {},
     "output_type": "execute_result"
    }
   ],
   "source": [
    "simple_environment(simple_randomized_agent, max_steps = 20)"
   ]
  },
  {
   "cell_type": "markdown",
   "metadata": {},
   "source": [
    "# Tasks\n",
    "\n",
    "## General [10 Points]\n",
    "\n",
    "1. Make sure that you use the latest version of this notebook. Sync your forked repository and pull the latest revision. \n",
    "2. Your implementation can use libraries like math, numpy, scipy, but not libraries that implement inteligent agents or complete search algorithms. Try to keep the code simple! In this course, we want to learn about the algorithms and we often do not need to use object-oriented design.\n",
    "3. You notebook needs to be formated professionally. \n",
    "    - Add additional markdown blocks for your description, comments in the code, add tables and use mathplotlib to produce charts where appropriate\n",
    "    - Do not show debugging output or include an excessive amount of output.\n",
    "    - Check that your PDF file is readable. For example, long lines are cut off in the PDF file. You don't have control over page breaks, so do not worry about these.\n",
    "4. Document your code. Add a short discussion of how your implementation works and your design choices.\n",
    "\n",
    "\n",
    "## Task 1: Implement a simulation environment [20 Points]\n",
    "\n",
    "The simple environment above is not very realistic. Your environment simulator needs to follow the PEAS description from above. It needs to:\n",
    "\n",
    "* Initialize the environment by storing the state of each square (clean/dirty) and making some dirty. ([Help with random numbers and arrays in Python](https://github.com/mhahsler/CS7320-AI/blob/master/Python_Code_Examples/random_numbers_and_arrays.ipynb))\n",
    "* Keep track of the agent's position.\n",
    "* Call the agent function repeatedly and provide the agent function with the sensor inputs.  \n",
    "* React to the agent's actions. E.g, by removing dirt from a square or moving the agent around unless there is a wall in the way.\n",
    "* Keep track of the performance measure. That is, track the agent's actions until all dirty squares are clean and count the number of actions it takes the agent to complete the task.\n",
    "\n",
    "The easiest implementation for the environment is to hold an 2-dimensional array to represent if squares are clean or dirty and to call the agent function in a loop until all squares are clean or a predefined number of steps have been reached (i.e., the robot runs out of energy).\n",
    "\n",
    "The simulation environment should be a function like the `simple_environment()` and needs to work with the simple randomized agent program from above. Use the same environmnt for all your agent implementations in the tasks below.\n",
    "\n",
    "*Note on debugging:* Debugging is difficult. Make sure your environment prints enough information when you use `verbose = True`. Also, implementing a function that the environment can use to displays the room with dirt and the current position of the robot at every step is very useful.  "
   ]
  },
  {
   "cell_type": "code",
   "execution_count": 315,
   "metadata": {},
   "outputs": [],
   "source": [
    "# Your code and description goes here\n",
    "\n",
    "import random\n",
    "\n",
    "#You can edit the size (assume square), number of dirty squares, max steps, tuple for position, and verboseness\n",
    "def simple_environment(agent, enviro_size, num_dirty, max_steps, start_pos, verbose):\n",
    "    num_cleaned = 0\n",
    "\n",
    "    #Calculate the environment area, random of number squares dirty, and a range to assign values\n",
    "    envi_area = enviro_size * enviro_size\n",
    "    dirty_array = random.sample(range(envi_area), num_dirty)\n",
    "    \n",
    "    #Create the 2D Array with 'D' for dirty and 'C' for clean squares\n",
    "    environment = []\n",
    "    linIndex = 0\n",
    "    for i in range(enviro_size):\n",
    "        envi_row = []\n",
    "        for j in range(enviro_size):\n",
    "            if linIndex in dirty_array:\n",
    "                envi_row.append('D')\n",
    "            else:\n",
    "                envi_row.append('C')\n",
    "            linIndex += 1\n",
    "\n",
    "        environment.append(envi_row)\n",
    "\n",
    "    'Start with the position given and set default values'\n",
    "    currX = start_pos[0]\n",
    "    currY = start_pos[1]\n",
    "    dirty = False\n",
    "    bumpers = {\"north\" : True, \"south\" : True, \"west\" : True, \"east\" : True}\n",
    "\n",
    "    'For loop for the amount of steps given'\n",
    "    for steps in range(max_steps):\n",
    "        #Checks the current location and sets the bumpers to correct values\n",
    "        #If bumpers at value == False, there is a barrier. If it is True, it can move in that direction\n",
    "        if currX == 0:\n",
    "            bumpers[\"west\"] = False\n",
    "        else:\n",
    "            bumpers[\"west\"] = True\n",
    "\n",
    "        if currX == enviro_size - 1:\n",
    "            bumpers[\"east\"] = False\n",
    "        else:\n",
    "            bumpers[\"east\"] = True\n",
    "\n",
    "        if currY == 0:\n",
    "            bumpers[\"north\"] = False\n",
    "        else:\n",
    "            bumpers[\"north\"] = True\n",
    "\n",
    "        if currY == enviro_size - 1:\n",
    "            bumpers[\"south\"] = False\n",
    "        else:\n",
    "            bumpers[\"south\"] = True\n",
    "        \n",
    "        #Setting environment square state to dirty or clean\n",
    "        if environment[currX][currY] == 'D':\n",
    "            dirty = True\n",
    "        else:\n",
    "            dirty = False\n",
    "\n",
    "        # Infinite loop to check the bumpers\n",
    "        while True:\n",
    "            action = agent(bumpers, dirty)\n",
    "            if action == \"suck\":\n",
    "                environment[currX][currY] = 'C'\n",
    "                if dirty == True:\n",
    "                    num_cleaned = num_cleaned + 1\n",
    "                break\n",
    "            if action == \"north\":\n",
    "                if currY <= 0:\n",
    "                    continue\n",
    "                else:\n",
    "                    currY -= 1\n",
    "                    break\n",
    "            if action == \"south\":\n",
    "                if currY >= enviro_size - 1:\n",
    "                    continue\n",
    "                else:\n",
    "                    currY += 1\n",
    "                    break\n",
    "            if action == \"east\":\n",
    "                if currX >= enviro_size - 1:\n",
    "                    continue\n",
    "                else:\n",
    "                    currX += 1\n",
    "                    break\n",
    "            if action == \"west\":\n",
    "                if currX <= 0:\n",
    "                    continue\n",
    "                else:\n",
    "                    currX -= 1\n",
    "                    break\n",
    "            if action == \"ALL CLEAN!\":\n",
    "                return num_cleaned\n",
    "        \n",
    "        #Reduce steps\n",
    "        max_steps = max_steps - 1\n",
    "\n",
    "        #Add some printing if verbose needed\n",
    "        if verbose:\n",
    "            print(\"Step\", steps , \"- action:\", action) \n",
    "            print(\"Bumper Sensors:\", bumpers)\n",
    "            print(\"Current Location:\", currX, \",\", currY)\n",
    "            print(\"Current Environment:\", environment, '\\n')\n",
    "    if verbose: \n",
    "        print(\"Total Dirty:\", num_dirty)\n",
    "    \n",
    "    return num_cleaned\n"
   ]
  },
  {
   "cell_type": "markdown",
   "metadata": {},
   "source": [
    "## Task 2:  Implement a simple reflex agent [10 Points] \n",
    "\n",
    "The simple reflex agent randomly walks around but reacts to the bumper sensor by not bumping into the wall and to dirt with sucking. Implement the agent program as a function.\n",
    "\n",
    "_Note:_ Agents cannot directly use variable in the environment. They only gets the percepts as the arguments to the agent function."
   ]
  },
  {
   "cell_type": "code",
   "execution_count": 188,
   "metadata": {},
   "outputs": [
    {
     "name": "stdout",
     "output_type": "stream",
     "text": [
      "Total Cleaned: 4\n"
     ]
    }
   ],
   "source": [
    "# Your code and description goes here\n",
    "def simple_reflex_agent(bumpers, dirty):\n",
    "    #Suck ONLY if dirty\n",
    "    if(dirty == True):\n",
    "        return 'suck'\n",
    "    else:\n",
    "        #Pick a random direction until it returns true, then move there\n",
    "        movements = [\"north\", \"east\", \"west\", \"south\"]\n",
    "        pick = True\n",
    "        while pick:\n",
    "            thisMove = np.random.choice(movements)\n",
    "            if(bumpers[thisMove] == True):\n",
    "                return thisMove\n",
    "\n",
    "#Print the output via the environment   \n",
    "print(\"Total Cleaned:\", simple_environment(simple_reflex_agent, 10, 10, 50, (0,0), False))"
   ]
  },
  {
   "cell_type": "markdown",
   "metadata": {},
   "source": [
    "## Task 3: Implement a model-based reflex agent [20 Points]\n",
    "\n",
    "Model-based agents use a state to keep track of what they have done and perceived so far. Your agent needs to find out where it is located and then keep track of its current location. You also need a set of rules based on the state and the percepts to make sure that the agent will clean the whole room. For example, the agent can move to a corner to determine its location and then it can navigate through the whole room and clean dirty squares.\n",
    "\n",
    "Describe how you define the __agent state__ and how your agent works before implementing it. ([Help with implementing state information on Python](https://github.com/mhahsler/CS7320-AI/blob/master/Python_Code_Examples/store_agent_state_information.ipynb))"
   ]
  },
  {
   "cell_type": "markdown",
   "metadata": {},
   "source": [
    "#### Your short description of the state and your implementation goes here:\n",
    "In this case, my state is represented by the variables stored inside the class of the agent. Here, I store whether the robot has been to the origin (0,0), it's current X and Y, and which direction it's heading (whether or not it's going East).\n",
    "\n",
    "Using this, the agent knows its location and uses that to systematically clean the square room row by row."
   ]
  },
  {
   "cell_type": "code",
   "execution_count": 189,
   "metadata": {},
   "outputs": [
    {
     "name": "stdout",
     "output_type": "stream",
     "text": [
      "Total Cleaned: 4\n"
     ]
    }
   ],
   "source": [
    "# Your code goes here\n",
    "class model_based_reflex_agent():\n",
    "\n",
    "    # This is the state. It tracks its current position, whether it has found the origin, and which direction it's currently heading.\n",
    "    def __init__(self):\n",
    "        self.isOrigin = False\n",
    "        self.currX = 0\n",
    "        self.currY = 0\n",
    "        self.goEast = True\n",
    "\n",
    "    # This function moves the robot to the origin (0,0) - the top left corner\n",
    "    def goToOrigin(self, bumpers):\n",
    "        if bumpers['north'] == False and bumpers['west'] == False:\n",
    "            self.isOrigin = True\n",
    "        else:\n",
    "            if(bumpers['north'] != False):\n",
    "                return 'north'\n",
    "            if(bumpers['west'] != False):\n",
    "                return 'west'\n",
    "\n",
    "    # This function defines the action of the robot\n",
    "    # The robot's cleaning function starts at the origin and cleans row by row, snaking through the square room\n",
    "    def act(self, bumpers, dirty):\n",
    "\n",
    "        #If it has not found the origin yet, go to the origin\n",
    "        if self.isOrigin == False:\n",
    "            return self.goToOrigin(bumpers)\n",
    "        else:\n",
    "            # Clean if the current square is dirty\n",
    "            if dirty == True:\n",
    "                return 'suck'\n",
    "\n",
    "            # If it's at the origin, it must go east to clean the row\n",
    "            if self.goEast:\n",
    "                # This is the case where there is an ODD amount of rows and the robot has cleaned everything\n",
    "                if bumpers['south'] == False and bumpers['east'] == False:\n",
    "                    return \"ALL CLEAN!\"\n",
    "                if bumpers['east'] == True:\n",
    "                    self.currX += 1\n",
    "                    self.pastAct = 'east'\n",
    "                    return 'east'\n",
    "                # Once the bumper east is False, go down a row and then start to clean westward\n",
    "                if bumpers['east'] == False:\n",
    "                    self.currY += 1\n",
    "                    self.goEast = False\n",
    "                    self.pastAct = 'south'\n",
    "                    return 'south'\n",
    "            # Same logic as the east, but for westward cleaning\n",
    "            else:\n",
    "                if bumpers['south'] == False and bumpers['west'] == False:\n",
    "                    return \"ALL CLEAN!\"\n",
    "                if bumpers['west'] == True:\n",
    "                    self.currX -= 1\n",
    "                    self.pastAct = 'west'\n",
    "                    return 'west'\n",
    "                if bumpers['west'] == False:\n",
    "                    self.currY += 1\n",
    "                    self.goEast = True\n",
    "                    self.pastAct = 'south'\n",
    "                    return 'south'\n",
    "             \n",
    "# Define a testing agent and test the code\n",
    "agent = model_based_reflex_agent();       \n",
    "print(\"Total Cleaned:\", simple_environment(agent.act, 5, 7, 25, (2,3), False))"
   ]
  },
  {
   "cell_type": "markdown",
   "metadata": {},
   "source": [
    "## Task 4: Simulation study [30 Points]\n",
    "\n",
    "Compare the performance (the performance measure is defined in the PEAS description above) of the agents using  environments of different size. E.g., $5 \\times 5$, $10 \\times 10$ and\n",
    "$100 \\times 100$. Use 100 random runs for each. Present the results using tables and graphs. Discuss the differences between the agents. \n",
    "([Help with charts and tables in Python](https://github.com/mhahsler/CS7320-AI/blob/master/Python_Code_Examples/charts_and_tables.ipynb))"
   ]
  },
  {
   "cell_type": "code",
   "execution_count": 190,
   "metadata": {},
   "outputs": [],
   "source": [
    "# !!! THIS SECTION OF MARKDOWN RUNS ALL 100 TRIALS !!!\n",
    "import csv\n",
    "\n",
    "dimensions = [5, 10, 100]\n",
    "\n",
    "# Number of dirty squares are the dimensions of one side + 2\n",
    "# Number of steps is the total area of the room\n",
    "with open('test_simulation_study.csv', 'w', newline='') as file:\n",
    "    # Output of the chart is in a csv file\n",
    "    writer = csv.writer(file)\n",
    "    writer.writerow([\"Size\", \"Randomized Agent\", \"Simple Reflex Agent\", \"Model-Based Reflex Agent\", \"Total Dirty\", \"Total Steps\"])\n",
    "    \n",
    "    # Iterates through each dimension and writes into the CSV\n",
    "    for size in dimensions:\n",
    "        sizeLabel = str(size) + \"x\" + str(size)\n",
    "        totalRandom = 0\n",
    "        totalSimple = 0\n",
    "        totalModel = 0\n",
    "\n",
    "        for i in range(100):\n",
    "            \n",
    "            # Scales number of steps and number of dirty squares up depending on size\n",
    "            # The number of steps will always be a little over the total area of the room\n",
    "            # The percent of squares dirty is always at 30% of the total amount of squares (rounded up)\n",
    "            if size == 5:\n",
    "                numDirty = 8\n",
    "                numSteps = 30\n",
    "            if size == 10:\n",
    "                numDirty = 30\n",
    "                numSteps = 110\n",
    "            if size == 100:\n",
    "                numDirty = 3000\n",
    "                numSteps = 10100\n",
    "\n",
    "            # Assigns all agents the same random starting spot for each trial\n",
    "            randomX = random.randint(0, size - 1)\n",
    "            randomY = random.randint(0, size - 1)\n",
    "\n",
    "            totalRandom += simple_environment(simple_randomized_agent, size, numDirty, numSteps, (randomX,randomY), False)\n",
    "            totalSimple += simple_environment(simple_reflex_agent, size, numDirty, numSteps, (randomX,randomY), False)\n",
    "            agent = model_based_reflex_agent()\n",
    "            totalModel += simple_environment(agent.act, size, numDirty, numSteps, (randomX,randomY), False)\n",
    "        writer.writerow([sizeLabel, int(totalRandom/100), int(totalSimple/100), int(totalModel/100), numDirty, numSteps])"
   ]
  },
  {
   "cell_type": "markdown",
   "metadata": {},
   "source": [
    "Fill out the following table with the average performance measure for 100 random runs (you may also create this table with code):\n",
    "\n",
    "| Size     | Randomized Agent | Simple Reflex Agent | Model-based Reflex Agent |\n",
    "|----------|------------------|---------------------|--------------------------|\n",
    "| 5x5     | | | |\n",
    "| 10x10   | | | |\n",
    "| 100x100 | | | |\n",
    "\n",
    "Add charts to compare the performance of the different agents."
   ]
  },
  {
   "cell_type": "code",
   "execution_count": 283,
   "metadata": {},
   "outputs": [
    {
     "data": {
      "image/png": "[encoded data removed]",
      "text/plain": [
       "<Figure size 432x288 with 1 Axes>"
      ]
     },
     "metadata": {
      "needs_background": "light"
     },
     "output_type": "display_data"
    },
    {
     "data": {
      "text/html": [
       "<div>\n",
       "<style scoped>\n",
       "    .dataframe tbody tr th:only-of-type {\n",
       "        vertical-align: middle;\n",
       "    }\n",
       "\n",
       "    .dataframe tbody tr th {\n",
       "        vertical-align: top;\n",
       "    }\n",
       "\n",
       "    .dataframe thead th {\n",
       "        text-align: right;\n",
       "    }\n",
       "</style>\n",
       "<table border=\"1\" class=\"dataframe\">\n",
       "  <thead>\n",
       "    <tr style=\"text-align: right;\">\n",
       "      <th></th>\n",
       "      <th>Size</th>\n",
       "      <th>Randomized Agent</th>\n",
       "      <th>Simple Reflex Agent</th>\n",
       "      <th>Model-Based Reflex Agent</th>\n",
       "      <th>Total Dirty</th>\n",
       "      <th>Total Steps</th>\n",
       "    </tr>\n",
       "  </thead>\n",
       "  <tbody>\n",
       "    <tr>\n",
       "      <th>0</th>\n",
       "      <td>5x5</td>\n",
       "      <td>1</td>\n",
       "      <td>3</td>\n",
       "      <td>6</td>\n",
       "      <td>8</td>\n",
       "      <td>30</td>\n",
       "    </tr>\n",
       "    <tr>\n",
       "      <th>1</th>\n",
       "      <td>10x10</td>\n",
       "      <td>4</td>\n",
       "      <td>11</td>\n",
       "      <td>23</td>\n",
       "      <td>30</td>\n",
       "      <td>110</td>\n",
       "    </tr>\n",
       "    <tr>\n",
       "      <th>2</th>\n",
       "      <td>100x100</td>\n",
       "      <td>299</td>\n",
       "      <td>665</td>\n",
       "      <td>2307</td>\n",
       "      <td>3000</td>\n",
       "      <td>10100</td>\n",
       "    </tr>\n",
       "  </tbody>\n",
       "</table>\n",
       "</div>"
      ],
      "text/plain": [
       "      Size  Randomized Agent  Simple Reflex Agent  Model-Based Reflex Agent  \\\n",
       "0      5x5                 1                    3                         6   \n",
       "1    10x10                 4                   11                        23   \n",
       "2  100x100               299                  665                      2307   \n",
       "\n",
       "   Total Dirty  Total Steps  \n",
       "0            8           30  \n",
       "1           30          110  \n",
       "2         3000        10100  "
      ]
     },
     "execution_count": 283,
     "metadata": {},
     "output_type": "execute_result"
    }
   ],
   "source": [
    "import pandas as pd\n",
    "import matplotlib.pyplot as plt\n",
    "\n",
    "cleaningData = pd.read_csv('/Users/kevinleong/Documents/GitHub/CS7320-AI/Agents/test_simulation_study.csv')\n",
    "\n",
    "# Inserts data into DataFrame\n",
    "df = pd.DataFrame(cleaningData)\n",
    "\n",
    "# Code to print the 3 seperate bar charts as one bar\n",
    "ind = np.arange(3) \n",
    "width = 0.25\n",
    "\n",
    "randomVals = df['Randomized Agent']\n",
    "bar1 = plt.bar(ind, randomVals, width, color = 'r')\n",
    "  \n",
    "simpleVals = df['Simple Reflex Agent']\n",
    "bar2 = plt.bar(ind+width, simpleVals, width, color='g')\n",
    "  \n",
    "modelVals = df['Model-Based Reflex Agent']\n",
    "bar3 = plt.bar(ind+width*2, modelVals, width, color = 'b')\n",
    "\n",
    "plt.xlabel(\"Room Size\")\n",
    "plt.ylabel('Number Squares Cleaned')\n",
    "plt.title(\"Average Squares Cleaned for 3 Different Agents at 3 Room Sizes\")\n",
    "  \n",
    "plt.xticks(ind+width,['5x5', '10x10', '100x100'])\n",
    "plt.legend( (bar1, bar2, bar3), ('Randomized', 'Simple-Reflex', 'Model-Based') )\n",
    "plt.show()\n",
    "\n",
    "cleaningData.head()"
   ]
  },
  {
   "cell_type": "markdown",
   "metadata": {},
   "source": [
    "The performance of the 3 agents were quite different as the size of the rooms went up. Again, I scaled the amount of steps and number of dirty squares up depending on the size of the room, and for each trial the starting X and Y values were randomized, so everything was the same for these trials except the agents themselves.\n",
    "\n",
    "You can see at the 5x5 and 10x10 size, the Randomized agent only cleaned 1 square. As well as this, at the 100x100 level, it only cleaned 10. This is the lowest performing agent, as it cleaned 12.5% of dirty squares in the 5x5 room and 13.3% of dirty squares in the 10x10 room. Because the agent is purely random, it wastes a lot of its energy steps sucking clean squares and moving sporatically around the board. This issue is especially problematic as room size increases and its effectiveness decreases as shown in the 100x100 room where it only cleaned 10%.\n",
    "\n",
    "However, looking at the Simple Reflex Agent, we get some better results. It managed to clean 37.5% of the squares in the 5x5 and only 36.7% of squares in the 10x10 rooms. When it comes to the 100x100 room, it only could clean 22.2% of the squares. Much like the randomized agent, this agent moves in a random direction, following bumpers. While it has marginally better performance than the randomized agent, it still is not that effective when room size scales upward. \n",
    "\n",
    "The best acting agent, by far, is the Model-Based Reflex agent. By snaking around the room, it manages to clean 75% and 76.7% of the dirty squares in the 5x5 and 10x10 rooms. However, unlike the other two agents, this agent's effectiveness manages to clean 77% of the squares in the 100x100 room - making it both the most efficient and the most effective agent out of the three. I think the reason the agent fails to get a complete room is due to its algorithm, it's initial objective is to get to the top left corner - spending energy units that could be spent on cleaning. Therefore, the agent does not clean some portions of the bottomn right part of the room, leaving a certain portion of the room still dirty."
   ]
  },
  {
   "cell_type": "code",
   "execution_count": 309,
   "metadata": {},
   "outputs": [
    {
     "data": {
      "image/png": "[encoded data removed]",
      "text/plain": [
       "<Figure size 432x288 with 1 Axes>"
      ]
     },
     "metadata": {
      "needs_background": "light"
     },
     "output_type": "display_data"
    }
   ],
   "source": [
    "df.iloc[0, 1:4].astype(int).plot(kind=\"bar\", title=\"5x5 Room\")\n",
    "plt.xlabel('Agents')\n",
    "plt.ylabel('Number Squares Cleaned')\n",
    "plt.xticks(rotation = 5)\n",
    "plt.show()"
   ]
  },
  {
   "cell_type": "code",
   "execution_count": 310,
   "metadata": {},
   "outputs": [
    {
     "data": {
      "image/png": "[encoded data removed]",
      "text/plain": [
       "<Figure size 432x288 with 1 Axes>"
      ]
     },
     "metadata": {
      "needs_background": "light"
     },
     "output_type": "display_data"
    }
   ],
   "source": [
    "df.iloc[1, 1:4].astype(int).plot(kind=\"bar\", title=\"10x10 Room\")\n",
    "plt.xlabel('Agents')\n",
    "plt.ylabel('Number Squares Cleaned')\n",
    "plt.xticks(rotation = 5)\n",
    "plt.show()"
   ]
  },
  {
   "cell_type": "code",
   "execution_count": 311,
   "metadata": {},
   "outputs": [
    {
     "data": {
      "image/png": "[encoded data removed]",
      "text/plain": [
       "<Figure size 432x288 with 1 Axes>"
      ]
     },
     "metadata": {
      "needs_background": "light"
     },
     "output_type": "display_data"
    }
   ],
   "source": [
    "df.iloc[2, 1:4].astype(int).plot(kind=\"bar\", title=\"100x100 Room\")\n",
    "plt.xlabel('Agents')\n",
    "plt.ylabel('Number Squares Cleaned')\n",
    "plt.xticks(rotation = 5)\n",
    "plt.show()"
   ]
  },
  {
   "cell_type": "markdown",
   "metadata": {},
   "source": [
    "Above, I separated the data into their specific room sizes in order to show a more in-depth view of the performance of the agents on the different rooms. \n",
    "\n",
    "In these plots, you can really see the difference in effectiveness of the different agents. The randomized agent consistently cleaned the least and the model-based reflex agent consistently cleaned the most (with the simple-reflex agent somewhere in between). You can also see, while the length of the bars for the randomized and simple reflex agents change, the model-based reflex agent generally has the same bar height in each room."
   ]
  },
  {
   "cell_type": "markdown",
   "metadata": {},
   "source": [
    "## Task 5: Robustness of the agent implementations [10 Points] \n",
    "\n",
    "Describe how your agent implementations will perform \n",
    "\n",
    "* if it is put into a rectangular room with unknown size, \n",
    "* if the cleaning area can have an iregular shape (e.g., a hallway connecting two rooms), or \n",
    "* if the room contains obstacles (i.e., squares that it cannot pass through and trigger the bumper sensors)."
   ]
  },
  {
   "cell_type": "markdown",
   "metadata": {},
   "source": [
    "*If my agent were put into a rectangular room with unknown size...*\n",
    "\n",
    "The random and simple-reflex agent would perform quite similar, cleaning up a minimal amount of squares. These agents have the probability to move and clean just as well as they did in the square room. However, my model-based reflex agent would be able to adapt and probably clean more squares than the other two agents. This is because the agent does not track the exact number of squares cleaned, but tracks what row it is cleaning. Therefore, it should perform the EXACT SAME as the square room.\n",
    "\n",
    "*If my agent were to clean in an irregularly shaped area...*\n",
    "\n",
    "I think that the random and simple-reflex agents would have a harder time cleaning. Because both of them generally move randomly, they would probably have a hard time nacigating through these areas. In a slim hallway, the simple reflex agent would definitely perform better than the random agent. However, in a room that is randomly generated in shape, both random and reflex agents would perform similar as they would with the square room. However, I think that the model-based reflex agent would have the worst reaction to the room change. Because it works assuming the room can be fully cleaned row by row, things like a slim column (where the robot would have to backtrack already cleaned squares) would cause the agent to stop at the end of the hall. As well as this, any extra corners could confuse the agent to thinking it has completed its job, making the program stop. Not only this, since the model-based reflex agent relies on identifying the top left corner of the room, if the top left corner is near another wall or in its own section, the agent would not be able to clean certain sections not in the other sections of the odd-shaped room.\n",
    "\n",
    "*If the room contained obstacles...*\n",
    "\n",
    "I think that the random and simple-reflex agents would suffer a little, but generally have a similar performance as they did in the square room as they move with some kind of randomness. I think that the simple reflex would outperform the random agent still, but their separation would be minimal. The model-based reflex agent, however, would greatly have its effectiveness dropped because it relies on its east/west bumpers to identify the edges of the room. So, if it were to hit an obstacle on the left or right of travel, it would assume it hit the edge of the room and move to the next row, eventhough the items after the obstacle could still be dirty. I think that these randomly put obstacles would greatly reduce the effectiveness of the model-based reflex and could probably only clean the top left side effectively."
   ]
  },
  {
   "cell_type": "markdown",
   "metadata": {},
   "source": [
    "## Graduate student advanced task: Obstacles [10 Points]\n",
    "\n",
    "__Undergraduate students:__ This is a bonus task you can attempt if you like [+5 Bonus Points].\n",
    "\n",
    "1. Change your simulation environment tor run experiments for the following problem: Add random obstacle squares that also trigger the bumper sensor. The agent does not know where the obstacles are. Observe how this changes the performance of the three implementations.\n",
    "\n",
    "2. Describe what would need to be done to perform better with obstacles. Add code if you can. "
   ]
  },
  {
   "cell_type": "code",
   "execution_count": 313,
   "metadata": {},
   "outputs": [],
   "source": [
    "# Your code and discussion goes here"
   ]
  },
  {
   "cell_type": "markdown",
   "metadata": {},
   "source": [
    "## More advanced implementation tasks\n",
    "\n",
    "* __Agent for and environment with obstacles:__ Implement an agent for an environment where the agent does not know how large the environment is (we assume it is rectangular), where it starts or where the obstacles are. An option would be to always move to the closest unchecked/uncleaned square (note that this is actualy depth-first search).\n",
    "\n",
    "* __Utility-based agent:__ Change the environment for a $5 \\times 5$ room, so each square has a fixed probability of getting dirty again. For the implementation, we give the environment a 2-dimensional array of probabilities. The utility of a state is defined as the number of currebntly clean squares in the room. Implement a utility-based agent that maximizes the expected utility over one full charge which lasts for 100000 time steps. To do this, the agent needs to learn the probabilities with which different squares get dirty again. This is very tricky!"
   ]
  },
  {
   "cell_type": "code",
   "execution_count": 314,
   "metadata": {},
   "outputs": [],
   "source": [
    "# Your ideas/code"
   ]
  }
 ],
 "metadata": {
  "kernelspec": {
   "display_name": "Python 3 (ipykernel)",
   "language": "python",
   "name": "python3"
  },
  "language_info": {
   "codemirror_mode": {
    "name": "ipython",
    "version": 3
   },
   "file_extension": ".py",
   "mimetype": "text/x-python",
   "name": "python",
   "nbconvert_exporter": "python",
   "pygments_lexer": "ipython3",
   "version": "3.9.7"
  },
  "toc-autonumbering": false
 },
 "nbformat": 4,
 "nbformat_minor": 4
}
