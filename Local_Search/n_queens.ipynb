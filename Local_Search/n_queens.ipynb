{
 "cells": [
  {
   "cell_type": "markdown",
   "metadata": {},
   "source": [
    "# Solving the n-Queens Problem using Local Search\n",
    "\n",
    "## Instructions\n",
    "\n",
    "Total Points: Undergrads 100 / Graduate students 110\n",
    "\n",
    "Complete this notebook. Use the provided notebook cells and insert additional code and markdown cells as needed. Submit the completely rendered notebook as a PDF file. \n"
   ]
  },
  {
   "cell_type": "markdown",
   "metadata": {},
   "source": [
    "## The n-Queens Problem\n",
    "\n",
    "* __Goal:__ Find an arrangement of $n$ queens on a $n \\times n$ chess board so that no queen is on the same row, column or diagonal as any other queen.\n",
    "\n",
    "* __State space:__ An arrangement of the queens on the board. We restrict the state space to arrangements where there is only a single queen per column. We represent a state as an integer vector $\\mathbf{q} = \\{q_1, q_2, \\dots, q_n\\}$, each number representing the row positions of the queens from left to right. We will call a state a \"board.\"\n",
    "\n",
    "* __Objective function:__ The number of pairwise conflicts (i.e., two queens in the same row/column/diagonal).\n",
    "The optimization problem is to find the optimal arrangement $\\mathbf{q}^*$ of $n$ queens on the board can be written as:\n",
    "\n",
    "  > minimize: $\\mathrm{conflicts}(\\mathbf{q})$\n",
    "  >\n",
    "  > subject to: $\\mathbf{q} \\ \\text{contains only one queen per column}$\n",
    "\n",
    "  Note: the constraint (subject to) is enforced by the definition of the state space.\n",
    "\n",
    "* __Local improvement move:__ Move one queen to a different row in its column.\n",
    "\n",
    "* __Termination:__ For this problem there is always an arrangement $\\mathbf{q}^*$ with $\\mathrm{conflicts}(\\mathbf{q}^*) = 0$, however, the local improvement moves might end up in a local minimum. "
   ]
  },
  {
   "cell_type": "markdown",
   "metadata": {},
   "source": [
    "## Helper functions"
   ]
  },
  {
   "cell_type": "code",
   "execution_count": 2,
   "metadata": {},
   "outputs": [],
   "source": [
    "import numpy as np\n",
    "import matplotlib.pyplot as plt\n",
    "from matplotlib import colors\n",
    "\n",
    "np.random.seed(1234)\n",
    "\n",
    "\n",
    "def random_board(n):\n",
    "    \"\"\"Creates a random board of size n x n. Note that only a single queen is placed in each column!\"\"\"\n",
    "    \n",
    "    return(np.random.randint(0,n, size = n))\n",
    "\n",
    "def comb2(n): return n*(n-1)//2 # this is n choose 2 equivalent to math.comb(n, 2); // is int division\n",
    "\n",
    "def conflicts(board):\n",
    "    \"\"\"Caclulate the number of conflicts, i.e., the objective function.\"\"\"\n",
    "\n",
    "    n = len(board)\n",
    "    \n",
    "    horizontal_cnt = [0] * n\n",
    "    diagonal1_cnt = [0] * 2 * n\n",
    "    diagonal2_cnt = [0] * 2 * n\n",
    "    \n",
    "    for i in range(n):\n",
    "        horizontal_cnt[board[i]] += 1\n",
    "        diagonal1_cnt[i + board[i]] += 1\n",
    "        diagonal2_cnt[i - board[i] + n] += 1\n",
    "    \n",
    "    return sum(map(comb2, horizontal_cnt + diagonal1_cnt + diagonal2_cnt))\n",
    "\n",
    "\n",
    "def show_board(board, cols = ['white', 'gray'], fontsize = 48):  \n",
    "    \"\"\"display the board\"\"\"\n",
    "    \n",
    "    n = len(board)\n",
    "    \n",
    "    # create chess board display\n",
    "    display = np.zeros([n,n])\n",
    "    for i in range(n):\n",
    "        for j in range(n):\n",
    "            if (((i+j) % 2) != 0): \n",
    "                display[i,j] = 1\n",
    "    \n",
    "    cmap = colors.ListedColormap(cols)\n",
    "    fig, ax = plt.subplots()\n",
    "    ax.imshow(display, cmap = cmap, \n",
    "              norm = colors.BoundaryNorm(range(len(cols)+1), cmap.N))\n",
    "    ax.set_xticks([])\n",
    "    ax.set_yticks([])\n",
    "    \n",
    "    # place queens. Note: Unicode u265B is a black queen\n",
    "    for j in range(n):\n",
    "        plt.text(j, board[j], u\"\\u265B\", fontsize = fontsize, \n",
    "                 horizontalalignment = 'center',\n",
    "                 verticalalignment = 'center')\n",
    "    \n",
    "    print(f\"Board with {conflicts(board)} conflicts.\")\n",
    "    plt.show()"
   ]
  },
  {
   "cell_type": "markdown",
   "metadata": {},
   "source": [
    "## Create a board"
   ]
  },
  {
   "cell_type": "code",
   "execution_count": 3,
   "metadata": {},
   "outputs": [
    {
     "name": "stdout",
     "output_type": "stream",
     "text": [
      "Board with 4 conflicts.\n"
     ]
    },
    {
     "data": {
      "image/png": "[encoded data removed]",
      "text/plain": [
       "<Figure size 432x288 with 1 Axes>"
      ]
     },
     "metadata": {},
     "output_type": "display_data"
    },
    {
     "name": "stdout",
     "output_type": "stream",
     "text": [
      "Queens (left to right) are at rows: [3 3 2 1]\n",
      "Number of conflicts: 4\n"
     ]
    }
   ],
   "source": [
    "board = random_board(4)\n",
    "\n",
    "show_board(board)\n",
    "print(f\"Queens (left to right) are at rows: {board}\")\n",
    "print(f\"Number of conflicts: {conflicts(board)}\")"
   ]
  },
  {
   "cell_type": "markdown",
   "metadata": {},
   "source": [
    "A board $4 \\times 4$ with no conflicts:"
   ]
  },
  {
   "cell_type": "code",
   "execution_count": 4,
   "metadata": {},
   "outputs": [
    {
     "name": "stdout",
     "output_type": "stream",
     "text": [
      "Board with 0 conflicts.\n"
     ]
    },
    {
     "data": {
      "image/png": "[encoded data removed]",
      "text/plain": [
       "<Figure size 432x288 with 1 Axes>"
      ]
     },
     "metadata": {},
     "output_type": "display_data"
    }
   ],
   "source": [
    "board = [1,3,0,2]\n",
    "show_board(board)"
   ]
  },
  {
   "cell_type": "markdown",
   "metadata": {},
   "source": [
    "# Tasks\n",
    "\n",
    "## General [10 Points]\n",
    "\n",
    "1. Make sure that you use the latest version of this notebook. Sync your forked repository and pull the latest revision. \n",
    "2. Your implementation can use libraries like math, numpy, scipy, but not libraries that implement inteligent agents or complete search algorithms. Try to keep the code simple! In this course, we want to learn about the algorithms and we often do not need to use object-oriented design.\n",
    "3. You notebook needs to be formated professionally. \n",
    "    - Add additional markdown blocks for your description, comments in the code, add tables and use mathplotlib to produce charts where appropriate\n",
    "    - Do not show debugging output or include an excessive amount of output.\n",
    "    - Check that your PDF file is readable. For example, long lines are cut off in the PDF file. You don't have control over page breaks, so do not worry about these.\n",
    "4. Document your code. Add a short discussion of how your implementation works and your design choices."
   ]
  },
  {
   "cell_type": "markdown",
   "metadata": {},
   "source": [
    "## Task 1: Steepest-ascend Hill Climbing Search [30 Points]\n",
    "\n",
    "Calculate the objective function for all local moves (see definition of local moves above) and always choose the best among all local moves. If there are no local moves that improve the objective, then you have reached a local optimum. "
   ]
  },
  {
   "cell_type": "code",
   "execution_count": 5,
   "metadata": {},
   "outputs": [
    {
     "name": "stdout",
     "output_type": "stream",
     "text": [
      "Board with 5 conflicts.\n"
     ]
    },
    {
     "data": {
      "image/png": "[encoded data removed]",
      "text/plain": [
       "<Figure size 432x288 with 1 Axes>"
      ]
     },
     "metadata": {},
     "output_type": "display_data"
    },
    {
     "name": "stdout",
     "output_type": "stream",
     "text": [
      "Board with 0 conflicts.\n"
     ]
    },
    {
     "data": {
      "image/png": "[encoded data removed]",
      "text/plain": [
       "<Figure size 432x288 with 1 Axes>"
      ]
     },
     "metadata": {},
     "output_type": "display_data"
    }
   ],
   "source": [
    "# Code and description go here\n",
    "\n",
    "def steepAscend(board, max):\n",
    "    counter = 0\n",
    "    while conflicts(board) > 0:\n",
    "        counter += 1\n",
    "        if counter > max:\n",
    "            return False\n",
    "        possibleMoves = {}\n",
    "        for cols in range(0, len(board)):\n",
    "            for rows in range(0, len(board)):\n",
    "                if board[cols] == rows:\n",
    "                    continue\n",
    "                copyBoard = np.copy(board)\n",
    "                copyBoard[cols] = rows\n",
    "                possibleMoves[(cols, rows)] = conflicts(copyBoard)\n",
    "        bestMoves = []\n",
    "        leastAmtConflicts = conflicts(board)\n",
    "\n",
    "        for first, second in possibleMoves.items():\n",
    "            if second < leastAmtConflicts:\n",
    "                leastAmtConflicts = second\n",
    "        for first, second in possibleMoves.items():\n",
    "            if second == leastAmtConflicts: \n",
    "                bestMoves.append(first)\n",
    "        if len(bestMoves) > 0:\n",
    "            col = bestMoves[0][0]\n",
    "            row = bestMoves[0][1]\n",
    "            board[col] = row\n",
    "    return True\n",
    "\n",
    "steepAscendBoard = random_board(5)\n",
    "show_board(steepAscendBoard)\n",
    "steepAscend(steepAscendBoard, 1000)\n",
    "show_board(steepAscendBoard)"
   ]
  },
  {
   "cell_type": "markdown",
   "metadata": {},
   "source": [
    "## Task 2: Random Hill Climbing 1 [10 Points]\n",
    "\n",
    "Chooses randomly from among all uphill moves till you have reached a local optimum."
   ]
  },
  {
   "cell_type": "code",
   "execution_count": 6,
   "metadata": {},
   "outputs": [
    {
     "name": "stdout",
     "output_type": "stream",
     "text": [
      "Board with 7 conflicts.\n"
     ]
    },
    {
     "data": {
      "image/png": "[encoded data removed]",
      "text/plain": [
       "<Figure size 432x288 with 1 Axes>"
      ]
     },
     "metadata": {},
     "output_type": "display_data"
    },
    {
     "name": "stdout",
     "output_type": "stream",
     "text": [
      "Board with 0 conflicts.\n"
     ]
    },
    {
     "data": {
      "image/png": "[encoded data removed]",
      "text/plain": [
       "<Figure size 432x288 with 1 Axes>"
      ]
     },
     "metadata": {},
     "output_type": "display_data"
    }
   ],
   "source": [
    "# Code and description go here\n",
    "\n",
    "import random\n",
    "\n",
    "def randomHillClimbing(board, max):\n",
    "    counter = 0\n",
    "    while conflicts(board) > 0:\n",
    "        counter += 1\n",
    "        if counter > max:\n",
    "            return False\n",
    "        possibleMoves = {}\n",
    "        for cols in range(0, len(board)):\n",
    "            for rows in range(0, len(board)):\n",
    "                if board[cols] == rows:\n",
    "                    continue\n",
    "                copyBoard = np.copy(board)\n",
    "                copyBoard[cols] = rows\n",
    "                possibleMoves[(cols, rows)] = conflicts(copyBoard)\n",
    "        randomMove = random.choice(list(possibleMoves.items()))\n",
    "        board[randomMove[0][0]] = randomMove[0][1]\n",
    "    return True\n",
    "\n",
    "randomHillClimbBoard = random_board(5)\n",
    "show_board(randomHillClimbBoard)\n",
    "randomHillClimbing(randomHillClimbBoard, 1000)\n",
    "show_board(randomHillClimbBoard)"
   ]
  },
  {
   "cell_type": "markdown",
   "metadata": {},
   "source": [
    "## Task 3: Stochastic Hill Climbing 2 [20 Points]\n",
    "\n",
    "A popular version of stochastic hill climbing generates only a single random local neighbor at a time and accept it if it has a better objective function value than the current state. This is very efficient if each state has many possible successor states. This method is called \"First-choice hill climbing\" in the textbook.\n",
    "\n",
    "__Notes:__ \n",
    "\n",
    "* Detecting local optima is tricky! You can, for example, stop if you were not able to improve the objective function during the last $x$ tries."
   ]
  },
  {
   "cell_type": "code",
   "execution_count": 7,
   "metadata": {},
   "outputs": [
    {
     "name": "stdout",
     "output_type": "stream",
     "text": [
      "Board with 4 conflicts.\n"
     ]
    },
    {
     "data": {
      "image/png": "[encoded data removed]",
      "text/plain": [
       "<Figure size 432x288 with 1 Axes>"
      ]
     },
     "metadata": {},
     "output_type": "display_data"
    },
    {
     "name": "stdout",
     "output_type": "stream",
     "text": [
      "Board with 0 conflicts.\n"
     ]
    },
    {
     "data": {
      "image/png": "[encoded data removed]",
      "text/plain": [
       "<Figure size 432x288 with 1 Axes>"
      ]
     },
     "metadata": {},
     "output_type": "display_data"
    }
   ],
   "source": [
    "# Code and description go here\n",
    "\n",
    "def firstChoiceHillClimbing(board, max):\n",
    "    counter = 0\n",
    "    while conflicts(board) > 0:\n",
    "        counter += 1\n",
    "        if counter > max:\n",
    "            return False\n",
    "        leastConflicts = conflicts(board)\n",
    "        for cols in range(0, len(board)):\n",
    "            for rows in range(0, len(board)):\n",
    "                if board[cols] == rows:\n",
    "                    continue\n",
    "                copyBoard = np.copy(board)\n",
    "                copyBoard[cols] = rows\n",
    "                copyConflicts = conflicts(copyBoard)\n",
    "\n",
    "                if copyConflicts < leastConflicts:\n",
    "                    board[cols] = rows\n",
    "        counter += 1\n",
    "    return True\n",
    "\n",
    "firstChoiceHillClimbBoard = random_board(5)\n",
    "show_board(firstChoiceHillClimbBoard)\n",
    "firstChoiceHillClimbing(firstChoiceHillClimbBoard, 1000)\n",
    "show_board(firstChoiceHillClimbBoard)"
   ]
  },
  {
   "cell_type": "markdown",
   "metadata": {},
   "source": [
    "## Task 4: Hill Climbing Search with Random Restarts [10 Points]\n",
    "\n",
    "Hill climbing will often end up in local optima. Restart the each of the three hill climbing algorithm up to 100 times with a random board to find a better (hopefully optimal) solution. Note that restart just means to run the algoithm several times starting with a new random board."
   ]
  },
  {
   "cell_type": "code",
   "execution_count": 8,
   "metadata": {},
   "outputs": [
    {
     "name": "stdout",
     "output_type": "stream",
     "text": [
      "Board with 0 conflicts.\n"
     ]
    },
    {
     "data": {
      "image/png": "[encoded data removed]",
      "text/plain": [
       "<Figure size 432x288 with 1 Axes>"
      ]
     },
     "metadata": {},
     "output_type": "display_data"
    },
    {
     "name": "stdout",
     "output_type": "stream",
     "text": [
      "Board with 4 conflicts.\n"
     ]
    },
    {
     "data": {
      "image/png": "[encoded data removed]",
      "text/plain": [
       "<Figure size 432x288 with 1 Axes>"
      ]
     },
     "metadata": {},
     "output_type": "display_data"
    },
    {
     "name": "stdout",
     "output_type": "stream",
     "text": [
      "Board with 4 conflicts.\n"
     ]
    },
    {
     "data": {
      "image/png": "[encoded data removed]",
      "text/plain": [
       "<Figure size 432x288 with 1 Axes>"
      ]
     },
     "metadata": {},
     "output_type": "display_data"
    }
   ],
   "source": [
    "# Code and description go here\n",
    "def hillClimbRandomRestart(board, max, size):\n",
    "    bestSteepAscentBoard = np.copy(board)\n",
    "    bestRandomHillBoard = np.copy(board)\n",
    "    bestFirstChoiceBoard = np.copy(board)\n",
    "\n",
    "    for i in range(0, 100):\n",
    "        randomBoard = random_board(size)\n",
    "        steepestAscentBoard = np.copy(randomBoard)\n",
    "        randomHillBoard = np.copy(randomBoard)\n",
    "        firstChoiceBoard = np.copy(randomBoard)\n",
    "\n",
    "        steepAscend(steepestAscentBoard, max)\n",
    "        if conflicts(steepestAscentBoard) == 0:\n",
    "            return steepestAscentBoard, bestRandomHillBoard, bestFirstChoiceBoard, True\n",
    "        elif conflicts(steepestAscentBoard) < conflicts(bestSteepAscentBoard):\n",
    "            bestSteepAscentBoard = np.copy(steepestAscentBoard)\n",
    "        \n",
    "        randomHillClimbing(randomHillBoard, max)\n",
    "        if conflicts(randomHillBoard) == 0:\n",
    "            return bestSteepAscentBoard, randomHillBoard, bestFirstChoiceBoard, True\n",
    "        elif conflicts(randomHillBoard) < conflicts(bestRandomHillBoard):\n",
    "            bestRandomHillBoard = np.copy(randomHillBoard)\n",
    "        \n",
    "        steepAscend(firstChoiceBoard, max)\n",
    "        if conflicts(firstChoiceBoard) == 0:\n",
    "            return bestSteepAscentBoard, bestRandomHillBoard, firstChoiceBoard, True\n",
    "        elif conflicts(firstChoiceBoard) < conflicts(bestFirstChoiceBoard):\n",
    "            bestFirstChoiceBoard = np.copy(firstChoiceBoard)\n",
    "        \n",
    "        bestSteepestConflicts = conflicts(bestSteepAscentBoard)\n",
    "        bestRandomHillConflicts = conflicts(bestRandomHillBoard)\n",
    "        bestFirstChoiceConflicts = conflicts(bestFirstChoiceBoard)\n",
    "    \n",
    "    return bestSteepAscentBoard, bestRandomHillBoard, bestFirstChoiceBoard, bestSteepestConflicts, bestRandomHillConflicts, bestFirstChoiceConflicts\n",
    "\n",
    "hillClimbRandomRestartBoard = random_board(5)\n",
    "randomRestartResults = hillClimbRandomRestart(hillClimbRandomRestartBoard, 1000, 4)\n",
    "for results in randomRestartResults[:-1]:\n",
    "    show_board(results)\n",
    "        "
   ]
  },
  {
   "cell_type": "markdown",
   "metadata": {},
   "source": [
    "## Task 5: Compare Performance [20 Points]\n",
    "\n",
    "Use runtime and objective function value to compare the algorithms. \n",
    "\n",
    "* Use boards of different sizes to explore how the different algorithms perform. Make sure that you run the algorithms for each board size several times (at least 10 times) with different starting boards and report averages.\n",
    "\n",
    "* How do the algorithms scale with problem size? Use tables and charts.\n",
    "\n",
    "* What is the largest board each algorithm can solve in a reasonable amount time?\n",
    "\n",
    "See [Profiling Python Code](../Python_Code_Examples/profiling_code.ipynb) for help about how to measure runtime in Python."
   ]
  },
  {
   "cell_type": "code",
   "execution_count": 18,
   "metadata": {},
   "outputs": [
    {
     "name": "stdout",
     "output_type": "stream",
     "text": [
      "[[0.035531020164489745, 0.032717442512512206, 0.01733560562133789, 3.8007683753967285], [0.014062190055847168, 0.013164734840393067, 0.0066822290420532225, 0.0007979869842529297], [0.4102774620056152, 0.40239682197570803, 0.17791872024536132, 0.7678189516067505], [0.8702958345413208, 0.8611607551574707, 0.4303585052490234, 6.852096509933472], [1.305070948600769, 1.2968327045440673, 0.6514883041381836, 22.834069895744324]]\n"
     ]
    }
   ],
   "source": [
    "import time\n",
    "\n",
    "boardSizes = [3, 5, 8, 10, 12]\n",
    "results = []\n",
    "for size in boardSizes:\n",
    "    total_steep = 0\n",
    "    total_random = 0\n",
    "    total_first = 0\n",
    "    total_restart = 0\n",
    "    \n",
    "    for i in range(0, 10):\n",
    "\n",
    "        newBoard = random_board(size)\n",
    "\n",
    "        t_init = time.time()\n",
    "        steepAscend(newBoard, 500)\n",
    "        t_stop = time.time()\n",
    "        t_steep = t_stop - t_init\n",
    "        total_steep += t_steep\n",
    "\n",
    "        t_init2 = time.time()\n",
    "        randomHillClimbing(newBoard, 500)\n",
    "        t_stop2 = time.time()\n",
    "        t_random = t_stop2 - t_init2\n",
    "        total_random += t_random\n",
    "\n",
    "        t_init3 = time.time()\n",
    "        firstChoiceHillClimbing(newBoard, 500)\n",
    "        t_stop3 = time.time()\n",
    "        t_first = t_stop3 - t_init3\n",
    "        total_first += t_first\n",
    "\n",
    "        t_init4 = time.time()\n",
    "        hillClimbRandomRestart(newBoard, 500, size-1)\n",
    "        t_stop4 = time.time()\n",
    "        t_restart = t_stop4 - t_init4\n",
    "        total_restart += t_restart\n",
    "    row = [total_steep/10, total_random/10, total_first/10, total_restart/10]\n",
    "    results.append(row)\n",
    "\n",
    "print(results)\n"
   ]
  },
  {
   "cell_type": "code",
   "execution_count": 9,
   "metadata": {},
   "outputs": [],
   "source": [
    "# Code, results, charts and discussion go here"
   ]
  },
  {
   "cell_type": "markdown",
   "metadata": {},
   "source": [
    "## Graduate student advanced task: Simulated Annealing [10 Points]\n",
    "\n",
    "__Undergraduate students:__ This is a bonus task you can attempt if you like [+5 Bonus Points].\n",
    "\n",
    "Simulated annealing is a form of stochastic hill climbing that avoid local optima by also allowing downhill moves with a probability proportional to a temperature. The temperature is decreased in every iteration following an annealing schedule. You have to experiment with the annealing schedule (Google to find guidance on this).\n",
    "\n",
    "\n",
    "1. Implement simulated annealing for the n-Queens problem.\n",
    "2. Compare the performance with the previous algorithms. \n",
    "2. Discuss your choice of annealing schedule."
   ]
  },
  {
   "cell_type": "code",
   "execution_count": 10,
   "metadata": {
    "tags": []
   },
   "outputs": [],
   "source": [
    "# Code and description go here"
   ]
  },
  {
   "cell_type": "markdown",
   "metadata": {},
   "source": [
    "## More things to do\n",
    "\n",
    "Implement a Genetic Algorithm for the n-Queens problem."
   ]
  },
  {
   "cell_type": "code",
   "execution_count": 11,
   "metadata": {
    "tags": []
   },
   "outputs": [],
   "source": [
    "# Code and description go here"
   ]
  }
 ],
 "metadata": {
  "kernelspec": {
   "display_name": "Python 3 (ipykernel)",
   "language": "python",
   "name": "python3"
  },
  "language_info": {
   "codemirror_mode": {
    "name": "ipython",
    "version": 3
   },
   "file_extension": ".py",
   "mimetype": "text/x-python",
   "name": "python",
   "nbconvert_exporter": "python",
   "pygments_lexer": "ipython3",
   "version": "3.10.4"
  },
  "toc-autonumbering": false,
  "toc-showcode": false,
  "toc-showmarkdowntxt": false,
  "toc-showtags": false
 },
 "nbformat": 4,
 "nbformat_minor": 4
}
