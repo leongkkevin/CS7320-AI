{
 "cells": [
  {
   "cell_type": "markdown",
   "metadata": {},
   "source": [
    "# Solving the n-Queens Problem using Local Search\n",
    "\n",
    "## Instructions\n",
    "\n",
    "Total Points: Undergrads 100 / Graduate students 110\n",
    "\n",
    "Complete this notebook. Use the provided notebook cells and insert additional code and markdown cells as needed. Submit the completely rendered notebook as a PDF file. \n"
   ]
  },
  {
   "cell_type": "markdown",
   "metadata": {},
   "source": [
    "## The n-Queens Problem\n",
    "\n",
    "* __Goal:__ Find an arrangement of $n$ queens on a $n \\times n$ chess board so that no queen is on the same row, column or diagonal as any other queen.\n",
    "\n",
    "* __State space:__ An arrangement of the queens on the board. We restrict the state space to arrangements where there is only a single queen per column. We represent a state as an integer vector $\\mathbf{q} = \\{q_1, q_2, \\dots, q_n\\}$, each number representing the row positions of the queens from left to right. We will call a state a \"board.\"\n",
    "\n",
    "* __Objective function:__ The number of pairwise conflicts (i.e., two queens in the same row/column/diagonal).\n",
    "The optimization problem is to find the optimal arrangement $\\mathbf{q}^*$ of $n$ queens on the board can be written as:\n",
    "\n",
    "  > minimize: $\\mathrm{conflicts}(\\mathbf{q})$\n",
    "  >\n",
    "  > subject to: $\\mathbf{q} \\ \\text{contains only one queen per column}$\n",
    "\n",
    "  Note: the constraint (subject to) is enforced by the definition of the state space.\n",
    "\n",
    "* __Local improvement move:__ Move one queen to a different row in its column.\n",
    "\n",
    "* __Termination:__ For this problem there is always an arrangement $\\mathbf{q}^*$ with $\\mathrm{conflicts}(\\mathbf{q}^*) = 0$, however, the local improvement moves might end up in a local minimum. "
   ]
  },
  {
   "cell_type": "markdown",
   "metadata": {},
   "source": [
    "## Helper functions"
   ]
  },
  {
   "cell_type": "code",
   "execution_count": 56,
   "metadata": {},
   "outputs": [],
   "source": [
    "import numpy as np\n",
    "import matplotlib.pyplot as plt\n",
    "from matplotlib import colors\n",
    "\n",
    "np.random.seed(1234)\n",
    "\n",
    "\n",
    "def random_board(n):\n",
    "    \"\"\"Creates a random board of size n x n. Note that only a single queen is placed in each column!\"\"\"\n",
    "    \n",
    "    return(np.random.randint(0,n, size = n))\n",
    "\n",
    "def comb2(n): return n*(n-1)//2 # this is n choose 2 equivalent to math.comb(n, 2); // is int division\n",
    "\n",
    "def conflicts(board):\n",
    "    \"\"\"Caclulate the number of conflicts, i.e., the objective function.\"\"\"\n",
    "\n",
    "    n = len(board)\n",
    "    \n",
    "    horizontal_cnt = [0] * n\n",
    "    diagonal1_cnt = [0] * 2 * n\n",
    "    diagonal2_cnt = [0] * 2 * n\n",
    "    \n",
    "    for i in range(n):\n",
    "        horizontal_cnt[board[i]] += 1\n",
    "        diagonal1_cnt[i + board[i]] += 1\n",
    "        diagonal2_cnt[i - board[i] + n] += 1\n",
    "    \n",
    "    return sum(map(comb2, horizontal_cnt + diagonal1_cnt + diagonal2_cnt))\n",
    "\n",
    "\n",
    "def show_board(board, cols = ['white', 'gray'], fontsize = 48):  \n",
    "    \"\"\"display the board\"\"\"\n",
    "    \n",
    "    n = len(board)\n",
    "    \n",
    "    # create chess board display\n",
    "    display = np.zeros([n,n])\n",
    "    for i in range(n):\n",
    "        for j in range(n):\n",
    "            if (((i+j) % 2) != 0): \n",
    "                display[i,j] = 1\n",
    "    \n",
    "    cmap = colors.ListedColormap(cols)\n",
    "    fig, ax = plt.subplots()\n",
    "    ax.imshow(display, cmap = cmap, \n",
    "              norm = colors.BoundaryNorm(range(len(cols)+1), cmap.N))\n",
    "    ax.set_xticks([])\n",
    "    ax.set_yticks([])\n",
    "    \n",
    "    # place queens. Note: Unicode u265B is a black queen\n",
    "    for j in range(n):\n",
    "        plt.text(j, board[j], u\"\\u265B\", fontsize = fontsize, \n",
    "                 horizontalalignment = 'center',\n",
    "                 verticalalignment = 'center')\n",
    "    \n",
    "    print(f\"Board with {conflicts(board)} conflicts.\")\n",
    "    plt.show()"
   ]
  },
  {
   "cell_type": "markdown",
   "metadata": {},
   "source": [
    "## Create a board"
   ]
  },
  {
   "cell_type": "code",
   "execution_count": 57,
   "metadata": {},
   "outputs": [
    {
     "name": "stdout",
     "output_type": "stream",
     "text": [
      "Board with 4 conflicts.\n"
     ]
    },
    {
     "data": {
      "image/png": "[encoded data removed]",
      "text/plain": [
       "<Figure size 432x288 with 1 Axes>"
      ]
     },
     "metadata": {},
     "output_type": "display_data"
    },
    {
     "name": "stdout",
     "output_type": "stream",
     "text": [
      "Queens (left to right) are at rows: [3 3 2 1]\n",
      "Number of conflicts: 4\n"
     ]
    }
   ],
   "source": [
    "board = random_board(4)\n",
    "\n",
    "show_board(board)\n",
    "print(f\"Queens (left to right) are at rows: {board}\")\n",
    "print(f\"Number of conflicts: {conflicts(board)}\")"
   ]
  },
  {
   "cell_type": "markdown",
   "metadata": {},
   "source": [
    "A board $4 \\times 4$ with no conflicts:"
   ]
  },
  {
   "cell_type": "code",
   "execution_count": 58,
   "metadata": {},
   "outputs": [
    {
     "name": "stdout",
     "output_type": "stream",
     "text": [
      "Board with 0 conflicts.\n"
     ]
    },
    {
     "data": {
      "image/png": "[encoded data removed]",
      "text/plain": [
       "<Figure size 432x288 with 1 Axes>"
      ]
     },
     "metadata": {},
     "output_type": "display_data"
    }
   ],
   "source": [
    "board = [1,3,0,2]\n",
    "show_board(board)"
   ]
  },
  {
   "cell_type": "markdown",
   "metadata": {},
   "source": [
    "# Tasks\n",
    "\n",
    "## General [10 Points]\n",
    "\n",
    "1. Make sure that you use the latest version of this notebook. Sync your forked repository and pull the latest revision. \n",
    "2. Your implementation can use libraries like math, numpy, scipy, but not libraries that implement inteligent agents or complete search algorithms. Try to keep the code simple! In this course, we want to learn about the algorithms and we often do not need to use object-oriented design.\n",
    "3. You notebook needs to be formated professionally. \n",
    "    - Add additional markdown blocks for your description, comments in the code, add tables and use mathplotlib to produce charts where appropriate\n",
    "    - Do not show debugging output or include an excessive amount of output.\n",
    "    - Check that your PDF file is readable. For example, long lines are cut off in the PDF file. You don't have control over page breaks, so do not worry about these.\n",
    "4. Document your code. Add a short discussion of how your implementation works and your design choices."
   ]
  },
  {
   "cell_type": "markdown",
   "metadata": {},
   "source": [
    "## Task 1: Steepest-ascend Hill Climbing Search [30 Points]\n",
    "\n",
    "Calculate the objective function for all local moves (see definition of local moves above) and always choose the best among all local moves. If there are no local moves that improve the objective, then you have reached a local optimum. "
   ]
  },
  {
   "cell_type": "code",
   "execution_count": 59,
   "metadata": {},
   "outputs": [
    {
     "name": "stdout",
     "output_type": "stream",
     "text": [
      "Board with 5 conflicts.\n"
     ]
    },
    {
     "data": {
      "image/png": "[encoded data removed]",
      "text/plain": [
       "<Figure size 432x288 with 1 Axes>"
      ]
     },
     "metadata": {},
     "output_type": "display_data"
    },
    {
     "name": "stdout",
     "output_type": "stream",
     "text": [
      "Board with 0 conflicts.\n"
     ]
    },
    {
     "data": {
      "image/png": "[encoded data removed]",
      "text/plain": [
       "<Figure size 432x288 with 1 Axes>"
      ]
     },
     "metadata": {},
     "output_type": "display_data"
    }
   ],
   "source": [
    "# Code and description go here\n",
    "\n",
    "def steepAscend(board, max):\n",
    "    counter = 0\n",
    "    while conflicts(board) > 0:\n",
    "        counter += 1\n",
    "        if counter > max:\n",
    "            return False\n",
    "        possibleMoves = {}\n",
    "        for cols in range(0, len(board)):\n",
    "            for rows in range(0, len(board)):\n",
    "                if board[cols] == rows:\n",
    "                    continue\n",
    "                copyBoard = np.copy(board)\n",
    "                copyBoard[cols] = rows\n",
    "                possibleMoves[(cols, rows)] = conflicts(copyBoard)\n",
    "        bestMoves = []\n",
    "        leastAmtConflicts = conflicts(board)\n",
    "\n",
    "        for first, second in possibleMoves.items():\n",
    "            if second < leastAmtConflicts:\n",
    "                leastAmtConflicts = second\n",
    "        for first, second in possibleMoves.items():\n",
    "            if second == leastAmtConflicts: \n",
    "                bestMoves.append(first)\n",
    "        if len(bestMoves) > 0:\n",
    "            col = bestMoves[0][0]\n",
    "            row = bestMoves[0][1]\n",
    "            board[col] = row\n",
    "    return True\n",
    "\n",
    "steepAscendBoard = random_board(5)\n",
    "show_board(steepAscendBoard)\n",
    "steepAscend(steepAscendBoard, 1000)\n",
    "show_board(steepAscendBoard)"
   ]
  },
  {
   "cell_type": "markdown",
   "metadata": {},
   "source": [
    "## Task 2: Random Hill Climbing 1 [10 Points]\n",
    "\n",
    "Chooses randomly from among all uphill moves till you have reached a local optimum."
   ]
  },
  {
   "cell_type": "code",
   "execution_count": 60,
   "metadata": {},
   "outputs": [
    {
     "name": "stdout",
     "output_type": "stream",
     "text": [
      "Board with 7 conflicts.\n"
     ]
    },
    {
     "data": {
      "image/png": "[encoded data removed]",
      "text/plain": [
       "<Figure size 432x288 with 1 Axes>"
      ]
     },
     "metadata": {},
     "output_type": "display_data"
    },
    {
     "name": "stdout",
     "output_type": "stream",
     "text": [
      "Board with 7 conflicts.\n"
     ]
    },
    {
     "data": {
      "image/png": "[encoded data removed]",
      "text/plain": [
       "<Figure size 432x288 with 1 Axes>"
      ]
     },
     "metadata": {},
     "output_type": "display_data"
    }
   ],
   "source": [
    "# Code and description go here\n",
    "\n",
    "import random\n",
    "\n",
    "def randomHillClimbing(board, max):\n",
    "    counter = 0\n",
    "    while conflicts(board) > 0:\n",
    "        counter += 1\n",
    "        if counter > max:\n",
    "            return False\n",
    "        possibleMoves = {}\n",
    "        for cols in range(0, len(board)):\n",
    "            for rows in range(0, len(board)):\n",
    "                if board[cols] == rows:\n",
    "                    continue\n",
    "                copyBoard = np.copy(board)\n",
    "                copyBoard[cols] = rows\n",
    "                possibleMoves[(cols, rows)] = conflicts(copyBoard)\n",
    "        randomMove = random.choice(list(possibleMoves.items()))\n",
    "        board[randomMove[0][0]] = randomMove[0][1]\n",
    "    return True\n",
    "\n",
    "randomHillClimbBoard = random_board(5)\n",
    "show_board(randomHillClimbBoard)\n",
    "randomHillClimbing(randomHillClimbBoard, 1000)\n",
    "show_board(randomHillClimbBoard)"
   ]
  },
  {
   "cell_type": "markdown",
   "metadata": {},
   "source": [
    "## Task 3: Stochastic Hill Climbing 2 [20 Points]\n",
    "\n",
    "A popular version of stochastic hill climbing generates only a single random local neighbor at a time and accept it if it has a better objective function value than the current state. This is very efficient if each state has many possible successor states. This method is called \"First-choice hill climbing\" in the textbook.\n",
    "\n",
    "__Notes:__ \n",
    "\n",
    "* Detecting local optima is tricky! You can, for example, stop if you were not able to improve the objective function during the last $x$ tries."
   ]
  },
  {
   "cell_type": "code",
   "execution_count": 61,
   "metadata": {},
   "outputs": [
    {
     "name": "stdout",
     "output_type": "stream",
     "text": [
      "Board with 4 conflicts.\n"
     ]
    },
    {
     "data": {
      "image/png": "[encoded data removed]",
      "text/plain": [
       "<Figure size 432x288 with 1 Axes>"
      ]
     },
     "metadata": {},
     "output_type": "display_data"
    },
    {
     "name": "stdout",
     "output_type": "stream",
     "text": [
      "Board with 0 conflicts.\n"
     ]
    },
    {
     "data": {
      "image/png": "[encoded data removed]",
      "text/plain": [
       "<Figure size 432x288 with 1 Axes>"
      ]
     },
     "metadata": {},
     "output_type": "display_data"
    }
   ],
   "source": [
    "# Code and description go here\n",
    "\n",
    "def firstChoiceHillClimbing(board, max):\n",
    "    counter = 0\n",
    "    while conflicts(board) > 0:\n",
    "        counter += 1\n",
    "        if counter > max:\n",
    "            return False\n",
    "        leastConflicts = conflicts(board)\n",
    "        for cols in range(0, len(board)):\n",
    "            for rows in range(0, len(board)):\n",
    "                if board[cols] == rows:\n",
    "                    continue\n",
    "                copyBoard = np.copy(board)\n",
    "                copyBoard[cols] = rows\n",
    "                copyConflicts = conflicts(copyBoard)\n",
    "\n",
    "                if copyConflicts < leastConflicts:\n",
    "                    board[cols] = rows\n",
    "        counter += 1\n",
    "    return True\n",
    "\n",
    "firstChoiceHillClimbBoard = random_board(5)\n",
    "show_board(firstChoiceHillClimbBoard)\n",
    "firstChoiceHillClimbing(firstChoiceHillClimbBoard, 1000)\n",
    "show_board(firstChoiceHillClimbBoard)"
   ]
  },
  {
   "cell_type": "markdown",
   "metadata": {},
   "source": [
    "## Task 4: Hill Climbing Search with Random Restarts [10 Points]\n",
    "\n",
    "Hill climbing will often end up in local optima. Restart the each of the three hill climbing algorithm up to 100 times with a random board to find a better (hopefully optimal) solution. Note that restart just means to run the algoithm several times starting with a new random board."
   ]
  },
  {
   "cell_type": "code",
   "execution_count": 62,
   "metadata": {},
   "outputs": [
    {
     "name": "stdout",
     "output_type": "stream",
     "text": [
      "Board with 0 conflicts.\n"
     ]
    },
    {
     "data": {
      "image/png": "[encoded data removed]",
      "text/plain": [
       "<Figure size 432x288 with 1 Axes>"
      ]
     },
     "metadata": {},
     "output_type": "display_data"
    },
    {
     "name": "stdout",
     "output_type": "stream",
     "text": [
      "Board with 4 conflicts.\n"
     ]
    },
    {
     "data": {
      "image/png": "[encoded data removed]",
      "text/plain": [
       "<Figure size 432x288 with 1 Axes>"
      ]
     },
     "metadata": {},
     "output_type": "display_data"
    },
    {
     "name": "stdout",
     "output_type": "stream",
     "text": [
      "Board with 4 conflicts.\n"
     ]
    },
    {
     "data": {
      "image/png": "[encoded data removed]",
      "text/plain": [
       "<Figure size 432x288 with 1 Axes>"
      ]
     },
     "metadata": {},
     "output_type": "display_data"
    }
   ],
   "source": [
    "# Code and description go here\n",
    "def hillClimbRandomRestart(board, max, size):\n",
    "    bestSteepAscentBoard = np.copy(board)\n",
    "    bestRandomHillBoard = np.copy(board)\n",
    "    bestFirstChoiceBoard = np.copy(board)\n",
    "\n",
    "    for i in range(0, 100):\n",
    "        randomBoard = random_board(size)\n",
    "        steepestAscentBoard = np.copy(randomBoard)\n",
    "        randomHillBoard = np.copy(randomBoard)\n",
    "        firstChoiceBoard = np.copy(randomBoard)\n",
    "\n",
    "        steepAscend(steepestAscentBoard, max)\n",
    "        if conflicts(steepestAscentBoard) == 0:\n",
    "            return steepestAscentBoard, bestRandomHillBoard, bestFirstChoiceBoard, True\n",
    "        elif conflicts(steepestAscentBoard) < conflicts(bestSteepAscentBoard):\n",
    "            bestSteepAscentBoard = np.copy(steepestAscentBoard)\n",
    "        \n",
    "        randomHillClimbing(randomHillBoard, max)\n",
    "        if conflicts(randomHillBoard) == 0:\n",
    "            return bestSteepAscentBoard, randomHillBoard, bestFirstChoiceBoard, True\n",
    "        elif conflicts(randomHillBoard) < conflicts(bestRandomHillBoard):\n",
    "            bestRandomHillBoard = np.copy(randomHillBoard)\n",
    "        \n",
    "        steepAscend(firstChoiceBoard, max)\n",
    "        if conflicts(firstChoiceBoard) == 0:\n",
    "            return bestSteepAscentBoard, bestRandomHillBoard, firstChoiceBoard, True\n",
    "        elif conflicts(firstChoiceBoard) < conflicts(bestFirstChoiceBoard):\n",
    "            bestFirstChoiceBoard = np.copy(firstChoiceBoard)\n",
    "        \n",
    "        bestSteepestConflicts = conflicts(bestSteepAscentBoard)\n",
    "        bestRandomHillConflicts = conflicts(bestRandomHillBoard)\n",
    "        bestFirstChoiceConflicts = conflicts(bestFirstChoiceBoard)\n",
    "    \n",
    "    return bestSteepAscentBoard, bestRandomHillBoard, bestFirstChoiceBoard, bestSteepestConflicts, bestRandomHillConflicts, bestFirstChoiceConflicts\n",
    "\n",
    "hillClimbRandomRestartBoard = random_board(5)\n",
    "randomRestartResults = hillClimbRandomRestart(hillClimbRandomRestartBoard, 1000, 4)\n",
    "for results in randomRestartResults[:-1]:\n",
    "    show_board(results)\n",
    "        "
   ]
  },
  {
   "cell_type": "markdown",
   "metadata": {},
   "source": [
    "## Task 5: Compare Performance [20 Points]\n",
    "\n",
    "Use runtime and objective function value to compare the algorithms. \n",
    "\n",
    "* Use boards of different sizes to explore how the different algorithms perform. Make sure that you run the algorithms for each board size several times (at least 10 times) with different starting boards and report averages.\n",
    "\n",
    "* How do the algorithms scale with problem size? Use tables and charts.\n",
    "\n",
    "* What is the largest board each algorithm can solve in a reasonable amount time?\n",
    "\n",
    "See [Profiling Python Code](../Python_Code_Examples/profiling_code.ipynb) for help about how to measure runtime in Python."
   ]
  },
  {
   "cell_type": "code",
   "execution_count": 71,
   "metadata": {},
   "outputs": [
    {
     "name": "stdout",
     "output_type": "stream",
     "text": [
      "[['Size', 'Steepest Ascent', 'Random Hill Climb', 'First Choice', 'Random Restart'], [3, 0.035999608039855954, 0.032677841186523435, 0.017469334602355956, 3.857939291000366], [5, 0.0006575584411621094, 0.10497355461120605, 0.014699339866638184, 0.0005480289459228515], [8, 0.42441587448120116, 0.5210234880447387, 0.18594906330108643, 0.8434790134429931], [10, 1.0188589572906495, 1.0084818840026855, 0.5077702522277832, 3.9999910831451415], [12, 1.5123690366744995, 1.659365677833557, 0.7514037370681763, 35.014140129089355]]\n",
      "[12, 1.3, 12.6, 1.2, 35.014140129089355]\n"
     ]
    }
   ],
   "source": [
    "import time\n",
    "# Returns time in seconds\n",
    "import pandas as pd\n",
    "\n",
    "boardSizes = [3, 5, 8, 10, 12]\n",
    "results = [['Size', 'Steepest Ascent', 'Random Hill Climb', 'First Choice', 'Random Restart']]\n",
    "resultsC = [['Size', 'Steepest Ascent', 'Random Hill Climb', 'First Choice', 'Random Restart']]\n",
    "for size in boardSizes:\n",
    "    total_steep = 0\n",
    "    total_random = 0\n",
    "    total_first = 0\n",
    "    total_restart = 0\n",
    "\n",
    "    total_steepC = 0\n",
    "    total_randomC = 0\n",
    "    total_firstC = 0\n",
    "    total_restartC = 0\n",
    "    \n",
    "    for i in range(0, 10):\n",
    "\n",
    "        newBoard = random_board(size)\n",
    "\n",
    "        t_init = time.time()\n",
    "        steepAscendBoard2 = np.copy(newBoard)\n",
    "        steepAscend(steepAscendBoard2, 500)\n",
    "        t_stop = time.time()\n",
    "        t_steep = t_stop - t_init\n",
    "        total_steep += t_steep\n",
    "        total_steepC += conflicts(steepAscendBoard2)\n",
    "\n",
    "        t_init2 = time.time()\n",
    "        randomHillClimbingBoard2 = np.copy(newBoard)\n",
    "        randomHillClimbing(randomHillClimbingBoard2, 500)\n",
    "        t_stop2 = time.time()\n",
    "        t_random = t_stop2 - t_init2\n",
    "        total_random += t_random\n",
    "        total_randomC += conflicts(randomHillClimbingBoard2)\n",
    "\n",
    "        t_init3 = time.time()\n",
    "        firstChoiceHillClimbingBoard2 = np.copy(newBoard)\n",
    "        firstChoiceHillClimbing(firstChoiceHillClimbingBoard2, 500)\n",
    "        t_stop3 = time.time()\n",
    "        t_first = t_stop3 - t_init3\n",
    "        total_first += t_first\n",
    "        total_firstC += conflicts(firstChoiceHillClimbingBoard2)\n",
    "\n",
    "        t_init4 = time.time()\n",
    "        hillClimbRandomRestartBoard2 = np.copy(newBoard)\n",
    "        hillClimbRandomRestart(hillClimbRandomRestartBoard2, 500, size-1)\n",
    "        t_stop4 = time.time()\n",
    "        t_restart = t_stop4 - t_init4\n",
    "        total_restart += t_restart\n",
    "        total_restartC += conflicts(hillClimbRandomRestartBoard2)\n",
    "\n",
    "    row = [size, total_steep/10, total_random/10, total_first/10, total_restart/10]\n",
    "    conflictsRow = [size, total_steepC/10, total_randomC/10, total_firstC/10, total_restart/10]\n",
    "    results.append(row)\n",
    "    resultsC.append(conflictsRow)\n",
    "\n",
    "print(results)"
   ]
  },
  {
   "cell_type": "code",
   "execution_count": 78,
   "metadata": {},
   "outputs": [
    {
     "name": "stdout",
     "output_type": "stream",
     "text": [
      "      0                1                  2             3               4\n",
      "0  Size  Steepest Ascent  Random Hill Climb  First Choice  Random Restart\n",
      "1     3            0.036           0.032678      0.017469        3.857939\n",
      "2     5         0.000658           0.104974      0.014699        0.000548\n",
      "3     8         0.424416           0.521023      0.185949        0.843479\n",
      "4    10         1.018859           1.008482       0.50777        3.999991\n",
      "5    12         1.512369           1.659366      0.751404        35.01414\n",
      "      0                1                  2             3               4\n",
      "0  Size  Steepest Ascent  Random Hill Climb  First Choice  Random Restart\n",
      "1     3              1.0                1.8           1.0        3.857939\n",
      "2     5              0.0                1.5           0.2        0.000548\n",
      "3     8              0.9                8.0           0.9        0.843479\n",
      "4    10              1.2                9.9           1.7        3.999991\n",
      "5    12              1.3               12.6           1.2        35.01414\n"
     ]
    },
    {
     "data": {
      "text/plain": [
       "<AxesSubplot:title={'center':'Execution Time for Size 3 N-Queens Problem'}>"
      ]
     },
     "execution_count": 78,
     "metadata": {},
     "output_type": "execute_result"
    },
    {
     "data": {
      "image/png": "[encoded data removed]",
      "text/plain": [
       "<Figure size 432x288 with 1 Axes>"
      ]
     },
     "metadata": {
      "needs_background": "light"
     },
     "output_type": "display_data"
    }
   ],
   "source": [
    "data = pd.DataFrame(results)\n",
    "dataC = pd.DataFrame(resultsC)\n",
    "print(data)\n",
    "print(dataC)\n",
    "\n",
    "# Plots the execution time for the Size 3 Problem\n",
    "plt.title('Execution Time for Size 3 N-Queens Problem')\n",
    "data.iloc[1, 1:].plot(kind=\"bar\")"
   ]
  },
  {
   "cell_type": "markdown",
   "metadata": {},
   "source": [
    "The plot above shows the Execution Time for a size 3 n-queens problem. The labels 1 through 4 correspond to these labels:\n",
    "1. Steepest Ascent\n",
    "2. Random Hill Climb\n",
    "3. First Choice\n",
    "4. Random Restart\n",
    "\n",
    "As shown, with this smallest data set, the Random Restart took the longest by far, and the First Choice took the smallest amount of time. Steepest Ascent and Random Hill Climb both took about the same time."
   ]
  },
  {
   "cell_type": "code",
   "execution_count": 77,
   "metadata": {},
   "outputs": [
    {
     "data": {
      "text/plain": [
       "<AxesSubplot:title={'center':'Execution Time for Size 5 N-Queens Problem'}>"
      ]
     },
     "execution_count": 77,
     "metadata": {},
     "output_type": "execute_result"
    },
    {
     "data": {
      "image/png": "[encoded data removed]",
      "text/plain": [
       "<Figure size 432x288 with 1 Axes>"
      ]
     },
     "metadata": {
      "needs_background": "light"
     },
     "output_type": "display_data"
    }
   ],
   "source": [
    "# Plots the execution time for the Size 5 Problem\n",
    "plt.title('Execution Time for Size 5 N-Queens Problem')\n",
    "data.iloc[2, 1:].plot(kind=\"bar\")"
   ]
  },
  {
   "cell_type": "markdown",
   "metadata": {},
   "source": [
    "This plot above (and all plots) have the same x values. Seen here, both Steepest Ascent and Random Restart were extremely quick. The slowest is Random Hill Climb (as expected), and First Choice is not as fast as Steepest Ascent or Random Restart, but is significantly faster than Random Hill."
   ]
  },
  {
   "cell_type": "code",
   "execution_count": 79,
   "metadata": {},
   "outputs": [
    {
     "data": {
      "text/plain": [
       "<AxesSubplot:title={'center':'Execution Time for Size 8 N-Queens Problem'}>"
      ]
     },
     "execution_count": 79,
     "metadata": {},
     "output_type": "execute_result"
    },
    {
     "data": {
      "image/png": "[encoded data removed]",
      "text/plain": [
       "<Figure size 432x288 with 1 Axes>"
      ]
     },
     "metadata": {
      "needs_background": "light"
     },
     "output_type": "display_data"
    }
   ],
   "source": [
    "# Plots the execution time for the Size 8 Problem\n",
    "plt.title('Execution Time for Size 8 N-Queens Problem')\n",
    "data.iloc[3, 1:].plot(kind=\"bar\")"
   ]
  },
  {
   "cell_type": "markdown",
   "metadata": {},
   "source": [
    "As shown above, as the size of the data set increases, Random Restart starts to take longer and longer. In fact, in the graph above, it takes the longest, with Random Hill Climb being the second longest. Afterwards, Steepest Ascent is next slowest, and First Choice Hill Climb is the fastest."
   ]
  },
  {
   "cell_type": "code",
   "execution_count": 67,
   "metadata": {},
   "outputs": [
    {
     "data": {
      "text/plain": [
       "<AxesSubplot:title={'center':'Execution Time for Size 10 N-Queens Problem'}>"
      ]
     },
     "execution_count": 67,
     "metadata": {},
     "output_type": "execute_result"
    },
    {
     "data": {
      "image/png": "[encoded data removed]",
      "text/plain": [
       "<Figure size 432x288 with 1 Axes>"
      ]
     },
     "metadata": {
      "needs_background": "light"
     },
     "output_type": "display_data"
    }
   ],
   "source": [
    "# Plots the execution time for the Size 10 Problem\n",
    "plt.title('Execution Time for Size 10 N-Queens Problem')\n",
    "data.iloc[4, 1:].plot(kind=\"bar\")"
   ]
  },
  {
   "cell_type": "code",
   "execution_count": 68,
   "metadata": {},
   "outputs": [
    {
     "data": {
      "text/plain": [
       "<AxesSubplot:title={'center':'Execution Time for Size 12 N-Queens Problem'}>"
      ]
     },
     "execution_count": 68,
     "metadata": {},
     "output_type": "execute_result"
    },
    {
     "data": {
      "image/png": "[encoded data removed]",
      "text/plain": [
       "<Figure size 432x288 with 1 Axes>"
      ]
     },
     "metadata": {
      "needs_background": "light"
     },
     "output_type": "display_data"
    }
   ],
   "source": [
    "# Plots the execution time for the Size 12 Problem\n",
    "plt.title('Execution Time for Size 12 N-Queens Problem')\n",
    "data.iloc[5, 1:].plot(kind=\"bar\")"
   ]
  },
  {
   "cell_type": "markdown",
   "metadata": {},
   "source": [
    "Again, for the two plots above, Random Restart takes the longest. Random Hill Climb and Steepest Ascent seems to have very similar execution times. As well as this, First Choice continues to be the fastest algorithm to solve the n-queens problem. It seems that for smaller data sets, Random Restart is quite effective and Random Hill Climb seems to be quite ineffective. However, as dataset size increases, Random Restart becomes very slow and so does Random Hill Climbing. First Choice seems to be the best choice on average when it comes to most datasets."
   ]
  },
  {
   "cell_type": "code",
   "execution_count": 86,
   "metadata": {},
   "outputs": [
    {
     "data": {
      "text/plain": [
       "<AxesSubplot:title={'center':'Conflicts for Size 3 N-Queens Problem'}>"
      ]
     },
     "execution_count": 86,
     "metadata": {},
     "output_type": "execute_result"
    },
    {
     "data": {
      "image/png": "[encoded data removed]",
      "text/plain": [
       "<Figure size 432x288 with 1 Axes>"
      ]
     },
     "metadata": {
      "needs_background": "light"
     },
     "output_type": "display_data"
    }
   ],
   "source": [
    "# Plots average conflict for the Size 3 Problem\n",
    "plt.title('Conflicts for Size 3 N-Queens Problem')\n",
    "dataC.iloc[1, 1:].plot(kind=\"bar\")"
   ]
  },
  {
   "cell_type": "code",
   "execution_count": 87,
   "metadata": {},
   "outputs": [
    {
     "data": {
      "text/plain": [
       "<AxesSubplot:title={'center':'Conflicts for Size 12 N-Queens Problem'}>"
      ]
     },
     "execution_count": 87,
     "metadata": {},
     "output_type": "execute_result"
    },
    {
     "data": {
      "image/png": "[encoded data removed]",
      "text/plain": [
       "<Figure size 432x288 with 1 Axes>"
      ]
     },
     "metadata": {
      "needs_background": "light"
     },
     "output_type": "display_data"
    }
   ],
   "source": [
    "# Plots average conflict for the Size 12 Problem\n",
    "plt.title('Conflicts for Size 12 N-Queens Problem')\n",
    "dataC.iloc[5, 1:].plot(kind=\"bar\")"
   ]
  },
  {
   "cell_type": "markdown",
   "metadata": {},
   "source": [
    "Now, looking at the average conflicts between the size 3 and 12 n-queens problems, we see that average conflicts per each algorithm scales quite similarly. Random Restart has a large amount of conflicts after finishing, with Random Hill Climbing being next. This means that these two, on average, could not find a solution as fast as Steepest Ascent and First Choice Hill Climbing. Both of which minimized the amount of conflicts and found a way to develop a solution most of the time."
   ]
  },
  {
   "cell_type": "markdown",
   "metadata": {},
   "source": [
    "## Graduate student advanced task: Simulated Annealing [10 Points]\n",
    "\n",
    "__Undergraduate students:__ This is a bonus task you can attempt if you like [+5 Bonus Points].\n",
    "\n",
    "Simulated annealing is a form of stochastic hill climbing that avoid local optima by also allowing downhill moves with a probability proportional to a temperature. The temperature is decreased in every iteration following an annealing schedule. You have to experiment with the annealing schedule (Google to find guidance on this).\n",
    "\n",
    "\n",
    "1. Implement simulated annealing for the n-Queens problem.\n",
    "2. Compare the performance with the previous algorithms. \n",
    "2. Discuss your choice of annealing schedule."
   ]
  },
  {
   "cell_type": "code",
   "execution_count": 69,
   "metadata": {
    "tags": []
   },
   "outputs": [],
   "source": [
    "# Code and description go here"
   ]
  },
  {
   "cell_type": "markdown",
   "metadata": {},
   "source": [
    "## More things to do\n",
    "\n",
    "Implement a Genetic Algorithm for the n-Queens problem."
   ]
  },
  {
   "cell_type": "code",
   "execution_count": 70,
   "metadata": {
    "tags": []
   },
   "outputs": [],
   "source": [
    "# Code and description go here"
   ]
  }
 ],
 "metadata": {
  "kernelspec": {
   "display_name": "Python 3 (ipykernel)",
   "language": "python",
   "name": "python3"
  },
  "language_info": {
   "codemirror_mode": {
    "name": "ipython",
    "version": 3
   },
   "file_extension": ".py",
   "mimetype": "text/x-python",
   "name": "python",
   "nbconvert_exporter": "python",
   "pygments_lexer": "ipython3",
   "version": "3.9.7"
  },
  "toc-autonumbering": false,
  "toc-showcode": false,
  "toc-showmarkdowntxt": false,
  "toc-showtags": false
 },
 "nbformat": 4,
 "nbformat_minor": 4
}
