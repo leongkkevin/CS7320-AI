{
 "cells": [
  {
   "cell_type": "markdown",
   "metadata": {},
   "source": [
    "# Search: Solving a Maze Using a Goal-based Agent\n",
    "\n",
    "## Instructions\n",
    "\n",
    "Total Points: Undergrads 100 / Graduate students 110\n",
    "\n",
    "Complete this notebook. Use the provided notebook cells and insert additional code and markdown cells as needed. Submit the completely rendered notebook as a PDF file. \n",
    "\n",
    "\n",
    "## Introduction\n",
    "\n",
    "The agent has a map of the maze it is in and the environment is assumed to be **deterministic, discrete, and known.** The agent must use the map to plan a path through the maze from the starting location $S$ to the goal location $G$.  This is a planing exercise for a goal-based agent, so you do not need to implement an environment, just use the map to search for a path. Once the plan is made, the agent in a deterministic environment (i.e., the transition function is deterministic with the outcome of each state/action pair fixed and no randomness) can just follow the path and does not need to care about the percepts.\n",
    "This is also called an **[open-loop system](https://en.wikipedia.org/wiki/Open-loop_controller).**\n",
    "The execution phase is trivial and we do not implement it in this exercise.\n",
    "\n",
    "Tree search algorithm implementations that you find online and used in general algorithms courses have often a different aim. These algorithms assume that you already have a tree in memory. We are interested in dynamically creating a search tree with the aim of finding a good/the best path from the root noteto the goal state. Follow the pseudo code presented in the text book (and replicated in the slides) closely. Ideally, we would like to search only a small part of the maze, i.e., create a search tree with as few nodes as possible. \n",
    "\n",
    "Several mazes for this exercise are stored as text files. Here is the small example maze:"
   ]
  },
  {
   "cell_type": "code",
   "execution_count": 105,
   "metadata": {},
   "outputs": [
    {
     "name": "stdout",
     "output_type": "stream",
     "text": [
      "XXXXXXXXXXXXXXXXXXXXXX\n",
      "X XX        X X      X\n",
      "X    XXXXXX X XXXXXX X\n",
      "XXXXXX     S  X      X\n",
      "X    X XXXXXX XX XXXXX\n",
      "X XXXX X         X   X\n",
      "X        XXX XXX   X X\n",
      "XXXXXXXXXX    XXXXXX X\n",
      "XG         XX        X\n",
      "XXXXXXXXXXXXXXXXXXXXXX\n",
      "\n"
     ]
    }
   ],
   "source": [
    "with open(\"small_maze.txt\", \"r\") as f:\n",
    "    maze_str = f.read()\n",
    "print(maze_str)"
   ]
  },
  {
   "cell_type": "markdown",
   "metadata": {},
   "source": [
    "__Note:__ The mazes above contains cycles and therefore the state space may not form proper trees unless cycles are prevented. Therfore, you will need to deal with cycle detection in your code."
   ]
  },
  {
   "cell_type": "markdown",
   "metadata": {},
   "source": [
    "## Parsing and pretty printing the maze\n",
    "\n",
    "The maze can also be displayed in color using code in the module [maze_helper.py](maze_helper.py). The code parses the string representing the maze and converts it into a `numpy` 2d array which you can use in your implementation. Position are represented as a 2-tuple of the form `(row, col)`. "
   ]
  },
  {
   "cell_type": "code",
   "execution_count": 106,
   "metadata": {
    "tags": []
   },
   "outputs": [
    {
     "name": "stdout",
     "output_type": "stream",
     "text": [
      "Position(0,0): X\n",
      "Position(8,1): G\n"
     ]
    }
   ],
   "source": [
    "import maze_helper as mh\n",
    "\n",
    "maze = mh.parse_maze(maze_str)\n",
    "\n",
    "# look at a position in the maze by subsetting the 2d array\n",
    "print(\"Position(0,0):\", maze[0, 0])\n",
    "\n",
    "# there is also a helper function called `look(maze, pos)` available\n",
    "# which uses a 2-tuple for the position.\n",
    "print(\"Position(8,1):\", mh.look(maze, (8, 1)))"
   ]
  },
  {
   "cell_type": "markdown",
   "metadata": {},
   "source": [
    "A helper function to visualize the maze is also available."
   ]
  },
  {
   "cell_type": "code",
   "execution_count": 107,
   "metadata": {},
   "outputs": [
    {
     "data": {
      "image/png": "[encoded data removed]",
      "text/plain": [
       "<Figure size 432x288 with 1 Axes>"
      ]
     },
     "metadata": {
      "image/png": {
       "height": 183,
       "width": 362
      },
      "needs_background": "light"
     },
     "output_type": "display_data"
    }
   ],
   "source": [
    "%matplotlib inline\n",
    "%config InlineBackend.figure_format = 'retina'\n",
    "# use higher resolution images in notebook\n",
    "\n",
    "mh.show_maze(maze)"
   ]
  },
  {
   "cell_type": "markdown",
   "metadata": {},
   "source": [
    "Find the position of the start and the goal using the helper function `find_pos()`"
   ]
  },
  {
   "cell_type": "code",
   "execution_count": 108,
   "metadata": {},
   "outputs": [
    {
     "name": "stdout",
     "output_type": "stream",
     "text": [
      "Start location: (3, 11)\n",
      "Goal location: (8, 1)\n"
     ]
    }
   ],
   "source": [
    "print(\"Start location:\", mh.find_pos(maze, what = \"S\"))\n",
    "print(\"Goal location:\", mh.find_pos(maze, what = \"G\"))"
   ]
  },
  {
   "cell_type": "markdown",
   "metadata": {},
   "source": [
    "Helper function documentation."
   ]
  },
  {
   "cell_type": "code",
   "execution_count": 109,
   "metadata": {},
   "outputs": [
    {
     "name": "stdout",
     "output_type": "stream",
     "text": [
      "Help on module maze_helper:\n",
      "\n",
      "NAME\n",
      "    maze_helper\n",
      "\n",
      "DESCRIPTION\n",
      "    Code for the Maze Assignment by Michael Hahsler\n",
      "    Usage: \n",
      "        import maze_helper as mh\n",
      "        mh.show_some_mazes()\n",
      "\n",
      "FUNCTIONS\n",
      "    find_pos(maze, what='S')\n",
      "        Find start/goal in a maze and returns the first one. \n",
      "        Caution: there is no error checking!\n",
      "        \n",
      "        Parameters:\n",
      "        maze: a array with characters prodced by parse_maze()\n",
      "        what: the letter to be found ('S' for start and 'G' for goal)\n",
      "        \n",
      "        Returns:\n",
      "        a tupple (x, y) for the found position.\n",
      "    \n",
      "    look(maze, pos)\n",
      "        Look at the label of a square with the position as an array of the form (x, y).\n",
      "    \n",
      "    parse_maze(maze_str)\n",
      "        Convert a maze as a string into a 2d numpy array\n",
      "    \n",
      "    show_maze(maze, fontsize=10)\n",
      "        Display a (parsed) maze as an image.\n",
      "    \n",
      "    welcome()\n",
      "        Welcome message.\n",
      "\n",
      "FILE\n",
      "    /Users/kevinleong/Documents/GitHub/CS7320-AI/Search/maze_helper.py\n",
      "\n",
      "\n"
     ]
    }
   ],
   "source": [
    "help(mh)"
   ]
  },
  {
   "cell_type": "markdown",
   "metadata": {},
   "source": [
    "## Tree structure\n",
    "\n",
    "Here is an implementation of the basic node structure for the search algorithms (see Fig 3.7 on page 73). I have added a method that extracts the path from the root node to the current node. It can be used to get the path when the search is completed."
   ]
  },
  {
   "cell_type": "code",
   "execution_count": 110,
   "metadata": {},
   "outputs": [],
   "source": [
    "class Node:\n",
    "    def __init__(self, pos, parent, action, cost):\n",
    "        self.pos = tuple(pos)    # the state; positions are (row,col)\n",
    "        self.parent = parent     # reference to parent node. None means root node.\n",
    "        self.action = action     # action used in the transition function (root node has None)\n",
    "        self.cost = cost         # for uniform cost this is the depth. It is also g(n) for A* search\n",
    "\n",
    "    def __str__(self):\n",
    "        return f\"Node - pos = {self.pos}; action = {self.action}; cost = {self.cost}\"\n",
    "    \n",
    "    def get_path_from_root(self):\n",
    "        \"\"\"returns nodes on the path from the root to the current node.\"\"\"\n",
    "        node = self\n",
    "        path = [node]\n",
    "    \n",
    "        while not node.parent is None:\n",
    "            node = node.parent\n",
    "            path.append(node)\n",
    "        \n",
    "        path.reverse()\n",
    "        \n",
    "        return(path)"
   ]
  },
  {
   "cell_type": "markdown",
   "metadata": {},
   "source": [
    "If needed, then you can add more fields to the class like the heuristic value $h(n)$ or $f(n)$.\n",
    "\n",
    "Examples for how to create and use a tree and information on memory management can be found [here](../Python_Code_Examples/trees.ipynb)."
   ]
  },
  {
   "cell_type": "markdown",
   "metadata": {},
   "source": [
    "# Tasks\n",
    "\n",
    "The goal is to:\n",
    "\n",
    "1. Implement the following search algorithms for solving different mazes:\n",
    "\n",
    "    - Breadth-first search (BFS)\n",
    "    - Depth-first search (DFS)\n",
    "    - Greedy best-first search (GBFS)\n",
    "    - A* search\n",
    "\n",
    "2. Run each of the above algorithms on the \n",
    "    - [small maze](small_maze.txt), \n",
    "    - [medium maze](medium_maze.txt), \n",
    "    - [large maze](large_maze.txt), \n",
    "    - [open maze](open_maze.txt),\n",
    "    - [wall maze](wall_maze.txt),\n",
    "    - [loops maze](loops_maze.txt),\n",
    "    - [empty maze](empty_maze.txt), and\n",
    "    - [empty 2_maze](empty_2_maze.txt).\n",
    "    \n",
    "3. For each problem instance and each search algorithm, report the following in a table:\n",
    "\n",
    "    - The solution and its path cost\n",
    "    - Total number of nodes expanded\n",
    "    - Maximum tree depth\n",
    "    - Maximum size of the frontier\n",
    "\n",
    "4. Display each solution by marking every maze square (or state) visited and the squares on the final path.\n",
    "\n",
    "## General [10 Points]\n",
    "\n",
    "1. Make sure that you use the latest version of this notebook. Sync your forked repository and pull the latest revision. \n",
    "2. Your implementation can use libraries like math, numpy, scipy, but not libraries that implement inteligent agents or complete search algorithms. Try to keep the code simple! In this course, we want to learn about the algorithms and we often do not need to use object-oriented design.\n",
    "3. You notebook needs to be formated professionally. \n",
    "    - Add additional markdown blocks for your description, comments in the code, add tables and use mathplotlib to produce charts where appropriate\n",
    "    - Do not show debugging output or include an excessive amount of output.\n",
    "    - Check that your PDF file is readable. For example, long lines are cut off in the PDF file. You don't have control over page breaks, so do not worry about these.\n",
    "4. Document your code. Add a short discussion of how your implementation works and your design choices."
   ]
  },
  {
   "cell_type": "markdown",
   "metadata": {},
   "source": [
    "## Task 1: Defining the search problem and determining the problem size [10 Points]\n",
    "\n",
    "Define the components of the search problem:\n",
    "\n",
    "* Initial state\n",
    "* Actions\n",
    "* Transition model\n",
    "* Goal state\n",
    "* Path cost\n",
    "\n",
    "Use verbal descriptions, variables and equations as appropriate. \n",
    "\n",
    "*Note:* You can swich the next block from code to Markdown and use formating."
   ]
  },
  {
   "cell_type": "markdown",
   "metadata": {},
   "source": [
    "* Initial State - in this case the initial state would be the starting position of the maze\n",
    "* Actions - the actions are constricted to moving in the cardinal directions\n",
    "* Transition Model - f(x)\n"
   ]
  },
  {
   "cell_type": "markdown",
   "metadata": {},
   "source": [
    "Give some estimates for the problem size:\n",
    "\n",
    "* state space size\n",
    "* depth of the optimal solution\n",
    "* maximum depth of tree\n",
    "* maximum branching factor\n",
    "\n",
    "Describe how you would determine these values for a given maze."
   ]
  },
  {
   "cell_type": "markdown",
   "metadata": {},
   "source": [
    "## Task 2: Uninformed search: Breadth-first and depth-first [40 Points]\n",
    "Implement these search strategies. Follow the pseudocode in the textbook/slides. You can use the tree structure shown above to extract the final path from your solution.\n",
    "\n",
    "**Notes:**\n",
    "\n",
    "* You can find maze solving implementations online that use the map to store information. While this is an effective idea for this two-dimensional navigation problem, it typically cannot be used for other search problems. Therefore, follow the textbook and only store information in the tree created during search, and use the reached and frontier data structures.\n",
    "* DSF can be implemented using the BFS tree search algorithm and simply changing the order in which the frontier is expanded (this is equivalent to best-first search with path length as the criterion to expand the next node). However, to take advantage of the significantly smaller memory footprint of DFS, you need to implement DFS in a different way without a reached data structure and by releasing the memory for nodes that are not needed anymore.\n",
    "* If DFS does not use a reached data structure, then its cycle checking abilities are limited. Remember, that DSF is incomplete if cycles cannot be prevented. You will see in your experiments that open spaces are a problem."
   ]
  },
  {
   "cell_type": "code",
   "execution_count": 183,
   "metadata": {},
   "outputs": [
    {
     "data": {
      "image/png": "[encoded data removed]",
      "text/plain": [
       "<Figure size 432x288 with 1 Axes>"
      ]
     },
     "metadata": {
      "image/png": {
       "height": 198,
       "width": 380
      },
      "needs_background": "light"
     },
     "output_type": "display_data"
    }
   ],
   "source": [
    "# Your code goes here\n",
    "\n",
    "# Open the maze and read from the file\n",
    "with open(\"medium_maze.txt\", \"r\") as f:\n",
    "    maze_str = f.read()\n",
    "maze = mh.parse_maze(maze_str)\n",
    "mh.show_maze(maze)\n",
    "\n",
    "# Expand creates the tree using the actions it took\n",
    "def expand(maze, node):\n",
    "    currX = node.pos[0]\n",
    "    currY = node.pos[1]\n",
    "    actions = []\n",
    "\n",
    "    if(currX - 1 >= 0 and currX + 1 <= len(maze) - 1):\n",
    "        if(mh.look(maze, (currX + 1, currY)) != 'X'):\n",
    "            newAction = Node((currX + 1, currY), node, \"South\", node.cost + 1)\n",
    "            actions.append(newAction)\n",
    "        if(mh.look(maze, (currX - 1, currY)) != 'X'):\n",
    "            newAction = Node((currX - 1, currY), node, \"North\", node.cost + 1)\n",
    "            actions.append(newAction)\n",
    "    if(currY - 1 >= 0 and currY + 1 <= len(maze[0]) - 1):\n",
    "        if(mh.look(maze, (currX, currY + 1)) != 'X'):\n",
    "            newAction = Node((currX, currY + 1), node, \"East\", node.cost + 1)\n",
    "            actions.append(newAction)\n",
    "        if(mh.look(maze, (currX, currY - 1)) != 'X'):\n",
    "            newAction = Node((currX, currY - 1), node, \"West\", node.cost + 1)\n",
    "            actions.append(newAction)\n",
    "    return actions\n",
    "\n",
    "# Breadth First Search\n",
    "def BFS(maze):\n",
    "\n",
    "    pathCost, maxExpNodes, maxTreeDepth, maxNodesMem, maxFrontSize  = 0, 0, 0, 0, 0\n",
    "\n",
    "    # Starting spot\n",
    "    start_pos = mh.find_pos(maze, what = \"S\")\n",
    "\n",
    "    # Create root node\n",
    "    initial = Node(start_pos, None, None, 0)\n",
    "    \n",
    "    # Reached and frontier data stored in arrays here\n",
    "    reached = [initial.pos]\n",
    "    frontier = [initial]\n",
    "\n",
    "    while frontier:\n",
    "        \n",
    "        # Checks max frontier size\n",
    "        if(len(frontier) > maxFrontSize):\n",
    "            maxFrontSize = len(frontier)\n",
    "\n",
    "        # Pop the FIRST element for FIFO\n",
    "        newNode = frontier.pop(0)\n",
    "\n",
    "        # Expand tree and search for Goal\n",
    "        actions = expand(maze, newNode)\n",
    "        # Add to max expanded nodes\n",
    "        maxExpNodes += len(actions)\n",
    "        maxNodesMem += len(actions)\n",
    "        # Check max tree depth\n",
    "        maxTreeDepth = max(maxTreeDepth, len(newNode.get_path_from_root()))\n",
    "\n",
    "        for thisNode in actions:\n",
    "            # Found Goal\n",
    "            if mh.look(maze, thisNode.pos) == 'G': \n",
    "                pathCost = len(thisNode.get_path_from_root())\n",
    "                return thisNode, pathCost, maxExpNodes, maxTreeDepth, maxNodesMem, maxFrontSize\n",
    "\n",
    "            # Update reached and frontier\n",
    "            if thisNode.pos not in reached:\n",
    "                reached.append(thisNode.pos)\n",
    "                frontier.append(thisNode)\n",
    "    return \"FAIL\", pathCost, maxExpNodes, maxTreeDepth, maxNodesMem, maxFrontSize"
   ]
  },
  {
   "cell_type": "code",
   "execution_count": 112,
   "metadata": {},
   "outputs": [],
   "source": [
    "# Cycle Checking via the current path\n",
    "def isCycle(node):\n",
    "    path = node.get_path_from_root()\n",
    "    for nodes in path[1:(len(path) - 1)]:\n",
    "        if nodes.pos == node.pos:\n",
    "            return True\n",
    "    return False\n",
    "\n",
    "# Depth First Search\n",
    "def DFS(maze):\n",
    "\n",
    "    pathCost, maxExpNodes, maxTreeDepth, maxNodesMem, maxFrontSize  = 0, 0, 0, 0, 0\n",
    "    \n",
    "    # Starting position\n",
    "    start_pos = mh.find_pos(maze, what = \"S\")\n",
    "\n",
    "    # Root node\n",
    "    initial = Node(start_pos, None, None, 0)\n",
    "\n",
    "    # Initialize frontier and initial result\n",
    "    frontier = [initial]\n",
    "    result = \"FAIL\"\n",
    "\n",
    "    while frontier:\n",
    "\n",
    "        # Checks max frontier size\n",
    "        if(len(frontier) > maxFrontSize):\n",
    "            maxFrontSize = len(frontier)\n",
    "\n",
    "        # LIFO \n",
    "        newNode = frontier.pop()\n",
    "        \n",
    "        # Check if we found the Goal\n",
    "        if mh.look(maze, newNode.pos) == 'G': \n",
    "            result = newNode\n",
    "            pathCost = len(newNode.get_path_from_root())\n",
    "            return result, pathCost, maxExpNodes, maxTreeDepth, maxNodesMem, maxFrontSize\n",
    "\n",
    "        # Cycle check\n",
    "        elif not isCycle(newNode):\n",
    "            # Expand tree\n",
    "            actions = expand(maze, newNode)\n",
    "            \n",
    "            # Add to max expanded nodes\n",
    "            maxExpNodes += len(actions)\n",
    "            maxNodesMem += len(actions)\n",
    "            # Check max tree depth\n",
    "            maxTreeDepth = max(maxTreeDepth, len(newNode.get_path_from_root()))\n",
    "            \n",
    "            # Append to actions\n",
    "            for thisNode in actions:\n",
    "                frontier.append(thisNode)\n",
    "        else:\n",
    "            # Delete if there is a cycle\n",
    "            del newNode\n",
    "            maxNodesMem -= 1\n",
    "            continue\n",
    "\n",
    "    if(result != \"FAIL\"):\n",
    "        pathCost = len(result.get_path_from_root())\n",
    "    else:\n",
    "        pathCost = 0\n",
    "    return result, pathCost, maxExpNodes, maxTreeDepth, maxNodesMem, maxFrontSize\n",
    "\n",
    "# for items in DFS(maze).get_path_from_root():\n",
    "#     print(items.pos)"
   ]
  },
  {
   "cell_type": "markdown",
   "metadata": {},
   "source": [
    "How does BFS and DFS deal with loops (cycles)?"
   ]
  },
  {
   "cell_type": "markdown",
   "metadata": {},
   "source": [
    "In the case of BFS, it uses a 'reached' list to ensure that cycles do not appear. For instance, if a node were to reappear in the expansion and was already in the reached list, it would be skipped because continuing there would create a cycle. On the other hand, DFS has a cycle checking function that checks the current path (and the current path alone) for cycles. "
   ]
  },
  {
   "cell_type": "markdown",
   "metadata": {},
   "source": [
    "Are your implementations complete and optimal? Explain why. What is the time and space complexity of each of **your** implementations?"
   ]
  },
  {
   "cell_type": "markdown",
   "metadata": {},
   "source": [
    "* BFS\n",
    "My BFS is complete - as it does find the right path each time. It is also optimal because each step has the same cost. Both its time and space complexity is O(b^d) where b is the max branching factor and d is the depth of the solution. \n",
    "* DFS\n",
    "My DFS is also complete and finds the correct path each time. However it is NOT optimal because it only finds the first solution it finds. It's time complexity is O(b^m) where b is the max branching factor and m is the maximum tree depth. However, its space complexity is only O(bm) - linear!"
   ]
  },
  {
   "cell_type": "markdown",
   "metadata": {},
   "source": [
    "## Task 3: Informed search: Implement greedy best-first search and A* search  [20 Points]\n",
    "\n",
    "You can use the map to estimate the distance from your current position to the goal using the Manhattan distance (see https://en.wikipedia.org/wiki/Taxicab_geometry) as a heuristic function. Both algorithms are based on Best-First search which requires only a small change from the BFS algorithm you have already implemented (see textbook/slides). "
   ]
  },
  {
   "cell_type": "code",
   "execution_count": 113,
   "metadata": {},
   "outputs": [],
   "source": [
    "# Your code goes here\n",
    "with open(\"small_maze.txt\", \"r\") as f:\n",
    "    maze_str = f.read()\n",
    "maze = mh.parse_maze(maze_str)\n",
    "\n",
    "# Finds the MANHATTAN distance between two points\n",
    "def findDist(pair1, pair2):\n",
    "    return abs(pair1[0] - pair2[0]) + abs(pair1[1] - pair2[1])\n",
    "\n",
    "# Greedy Best First\n",
    "def GBFS(maze):\n",
    "    \n",
    "    pathCost, maxExpNodes, maxTreeDepth, maxNodesMem, maxFrontSize  = 0, 0, 0, 0, 0\n",
    "\n",
    "    # Defines start and goal states\n",
    "    start = mh.find_pos(maze, what = \"S\")\n",
    "    goal = mh.find_pos(maze, what = \"G\")\n",
    "\n",
    "    # Create root node\n",
    "    initial = Node(start, None, None, 0)\n",
    "    \n",
    "    # Initialize reached and frontier lists\n",
    "    # Frontier is different because it also stores cost\n",
    "    reached = [initial.pos]\n",
    "    frontier = [(0, initial)]\n",
    "\n",
    "    while frontier:\n",
    "\n",
    "        # Checks max frontier size\n",
    "        if(len(frontier) > maxFrontSize):\n",
    "            maxFrontSize = len(frontier)\n",
    "            \n",
    "        # Sort the frontier to ensure it's a priority \n",
    "        frontier.sort(key = lambda x: x[0])\n",
    "\n",
    "        # Same as BFS\n",
    "        newNode = frontier.pop(0)\n",
    "        actions = expand(maze, newNode[1])\n",
    "        for thisNode in actions:\n",
    "\n",
    "            # Add to max expanded nodes\n",
    "            maxExpNodes += len(actions)\n",
    "            maxNodesMem += len(actions)\n",
    "            # Check max tree depth\n",
    "            maxTreeDepth = max(maxTreeDepth, len(newNode[1].get_path_from_root()))\n",
    "\n",
    "            if mh.look(maze, thisNode.pos) == 'G': \n",
    "                pathCost = len(thisNode.get_path_from_root())\n",
    "                return thisNode, pathCost, maxExpNodes, maxTreeDepth, maxNodesMem, maxFrontSize\n",
    "\n",
    "            if thisNode.pos not in reached:\n",
    "                reached.append(thisNode.pos)\n",
    "                frontier.append( (findDist(goal, thisNode.pos), thisNode) )\n",
    "    return \"FAIL\", pathCost, maxExpNodes, maxTreeDepth, maxNodesMem, maxFrontSize\n",
    "\n",
    "# for items in GBFS(maze)[0].get_path_from_root():\n",
    "#     print(items.pos)\n",
    "    "
   ]
  },
  {
   "cell_type": "code",
   "execution_count": 114,
   "metadata": {},
   "outputs": [],
   "source": [
    "with open(\"small_maze.txt\", \"r\") as f:\n",
    "    maze_str = f.read()\n",
    "maze = mh.parse_maze(maze_str)\n",
    "\n",
    "# A* Search\n",
    "def AStar(maze):\n",
    "\n",
    "    pathCost, maxExpNodes, maxTreeDepth, maxNodesMem, maxFrontSize  = 0, 0, 0, 0, 0\n",
    "\n",
    "    # Initialize start and goal \n",
    "    start = mh.find_pos(maze, what = \"S\")\n",
    "    goal = mh.find_pos(maze, what = \"G\")\n",
    "\n",
    "    # Initialize root node\n",
    "    initial = Node(start, None, None, 0)\n",
    "    \n",
    "    # Create reached and frontier lists\n",
    "    reached = [initial.pos]\n",
    "    frontier = [(0 + initial.cost, initial)]\n",
    "\n",
    "    while frontier:\n",
    "\n",
    "         # Checks max frontier size\n",
    "        if(len(frontier) > maxFrontSize):\n",
    "            maxFrontSize = len(frontier)\n",
    "\n",
    "        frontier.sort(key = lambda x: x[0])\n",
    "        newNode = frontier.pop(0)\n",
    "        actions = expand(maze, newNode[1])\n",
    "        for thisNode in actions:\n",
    "\n",
    "            # Add to max expanded nodes\n",
    "            maxExpNodes += len(actions)\n",
    "            maxNodesMem += len(actions)\n",
    "            # Check max tree depth\n",
    "            maxTreeDepth = max(maxTreeDepth, len(newNode[1].get_path_from_root()))\n",
    "            \n",
    "            if mh.look(maze, thisNode.pos) == 'G':\n",
    "                pathCost = len(thisNode.get_path_from_root())\n",
    "                return thisNode, pathCost, maxExpNodes, maxTreeDepth, maxNodesMem, maxFrontSize\n",
    "\n",
    "            if thisNode.pos not in reached:\n",
    "                reached.append(thisNode.pos)\n",
    "                frontier.append( ((findDist(goal, thisNode.pos) + thisNode.cost), thisNode) )\n",
    "    return \"FAIL\", pathCost, maxExpNodes, maxTreeDepth, maxNodesMem, maxFrontSize\n",
    "\n",
    "# for items in AStar(maze)[0].get_path_from_root():\n",
    "#     print(items.pos)"
   ]
  },
  {
   "cell_type": "markdown",
   "metadata": {},
   "source": [
    "Are your implementations complete and optimal? What is the time and space complexity?"
   ]
  },
  {
   "cell_type": "markdown",
   "metadata": {},
   "source": [
    "Both Greedy Best First Search and A* Search are complete. However, only A* search is complete. GBFS has a time and space complexity of O(b^m) - much like DFS in its worst case. However, if the heuristic is accurate all of the time, it's complexity becomes linear - O(bm) where b is the maximum branching factor and m is the maximum depth of the tree. A* search has a time and space complexity of a certain number of nodes where the function f(n) - which in this case is the heuristic and path cost - is less than C* (which is the lowerst ocst of going to a goal node). A* needs to expand all these in order to find the optimal solution."
   ]
  },
  {
   "cell_type": "markdown",
   "metadata": {},
   "source": [
    "## Task 4: Comparison and discussion [20 Points] \n",
    "\n",
    "Run experiments to compare the implemented algorithms.\n",
    "\n",
    "How to deal with issues:\n",
    "\n",
    "* Your implementation returns unexpected results: Try to debug and fix the code. Visualizing the maze, the current path and the frontier after every step is very helpful. If the code still does not work, then mark the result with an asterisk (*) and describe the issue below the table.\n",
    "\n",
    "* Your implementation cannot consistently solve a specific maze and ends up in an infinite loop:\n",
    "    Debug. If it is a shortcoming of the algorithm/implementation, then put \"N/A*\" in the results table and describe why this is happening."
   ]
  },
  {
   "cell_type": "code",
   "execution_count": 184,
   "metadata": {},
   "outputs": [],
   "source": [
    "# Add code\n",
    "# Open Small Maze\n",
    "with open(\"small_maze.txt\", \"r\") as f:\n",
    "    maze_str = f.read()\n",
    "maze = mh.parse_maze(maze_str)\n",
    "\n",
    "BFS_output = BFS(maze)\n",
    "DFS_output = DFS(maze)\n",
    "GBFS_output = GBFS(maze)\n",
    "AStar_output = AStar(maze)"
   ]
  },
  {
   "cell_type": "markdown",
   "metadata": {},
   "source": [
    "Complete the following table for each maze.\n",
    "\n",
    "__Small maze__\n",
    "\n",
    "| algorithm | path cost | # of nodes expanded | max tree depth | max # of nodes in memory | max frontier size |\n",
    "|-----------|-----------|----------------|----------------|---------------|-------------------|\n",
    "| BFS       |           |                |                |               |                   |\n",
    "| DFS       |           |                |                |               |                   |\n",
    "| GBS       |           |                |                |               |                   |\n",
    "| A*        |           |                |                |               |                   |\n",
    "\n",
    "__Medium Maze__\n",
    "\n",
    "..."
   ]
  },
  {
   "cell_type": "markdown",
   "metadata": {},
   "source": [
    "Present the results as using charts (see [Python Code Examples/charts and tables](../Python_Code_Examples/charts_and_tables.ipynb)). "
   ]
  },
  {
   "cell_type": "code",
   "execution_count": 185,
   "metadata": {},
   "outputs": [
    {
     "data": {
      "text/html": [
       "<div>\n",
       "<style scoped>\n",
       "    .dataframe tbody tr th:only-of-type {\n",
       "        vertical-align: middle;\n",
       "    }\n",
       "\n",
       "    .dataframe tbody tr th {\n",
       "        vertical-align: top;\n",
       "    }\n",
       "\n",
       "    .dataframe thead th {\n",
       "        text-align: right;\n",
       "    }\n",
       "</style>\n",
       "<table border=\"1\" class=\"dataframe\">\n",
       "  <thead>\n",
       "    <tr style=\"text-align: right;\">\n",
       "      <th></th>\n",
       "      <th>Algorithms</th>\n",
       "      <th>BFS</th>\n",
       "      <th>DFS</th>\n",
       "      <th>GBFS</th>\n",
       "      <th>A*</th>\n",
       "    </tr>\n",
       "  </thead>\n",
       "  <tbody>\n",
       "    <tr>\n",
       "      <th>0</th>\n",
       "      <td>Path Cost</td>\n",
       "      <td>20</td>\n",
       "      <td>50</td>\n",
       "      <td>30</td>\n",
       "      <td>20</td>\n",
       "    </tr>\n",
       "    <tr>\n",
       "      <th>1</th>\n",
       "      <td># of Nodes Expanded</td>\n",
       "      <td>185</td>\n",
       "      <td>150</td>\n",
       "      <td>173</td>\n",
       "      <td>238</td>\n",
       "    </tr>\n",
       "    <tr>\n",
       "      <th>2</th>\n",
       "      <td>Max Tree Depth</td>\n",
       "      <td>19</td>\n",
       "      <td>49</td>\n",
       "      <td>29</td>\n",
       "      <td>19</td>\n",
       "    </tr>\n",
       "    <tr>\n",
       "      <th>3</th>\n",
       "      <td>Max # Nodes in Memory</td>\n",
       "      <td>185</td>\n",
       "      <td>105</td>\n",
       "      <td>173</td>\n",
       "      <td>238</td>\n",
       "    </tr>\n",
       "    <tr>\n",
       "      <th>4</th>\n",
       "      <td>Max Frontier Size</td>\n",
       "      <td>9</td>\n",
       "      <td>33</td>\n",
       "      <td>5</td>\n",
       "      <td>8</td>\n",
       "    </tr>\n",
       "  </tbody>\n",
       "</table>\n",
       "</div>"
      ],
      "text/plain": [
       "              Algorithms  BFS  DFS  GBFS   A*\n",
       "0              Path Cost   20   50    30   20\n",
       "1    # of Nodes Expanded  185  150   173  238\n",
       "2         Max Tree Depth   19   49    29   19\n",
       "3  Max # Nodes in Memory  185  105   173  238\n",
       "4      Max Frontier Size    9   33     5    8"
      ]
     },
     "execution_count": 185,
     "metadata": {},
     "output_type": "execute_result"
    }
   ],
   "source": [
    "# Add charts\n",
    "import numpy as np  \n",
    "import pandas as pd\n",
    "\n",
    "algorithms = {\n",
    "    \"Algorithms\": [\"Path Cost\", \"# of Nodes Expanded\", \"Max Tree Depth\", \"Max # Nodes in Memory\", \"Max Frontier Size\"],\n",
    "    \"BFS\" : [BFS_output[1], BFS_output[2], BFS_output[3], BFS_output[4], BFS_output[5]],\n",
    "    \"DFS\" : [DFS_output[1], DFS_output[2], DFS_output[3], DFS_output[4], DFS_output[5]],\n",
    "    \"GBFS\" : [GBFS_output[1], GBFS_output[2], GBFS_output[3], GBFS_output[4], GBFS_output[5]],\n",
    "    \"A*\" : [AStar_output[1], AStar_output[2], AStar_output[3], AStar_output[4], AStar_output[5]]\n",
    "}\n",
    "\n",
    "df = pd.DataFrame(algorithms)\n",
    "df"
   ]
  },
  {
   "cell_type": "markdown",
   "metadata": {},
   "source": [
    "Discuss the most important lessons you have learned from implementing the different search strategies. "
   ]
  },
  {
   "cell_type": "markdown",
   "metadata": {},
   "source": [
    "What I found interesting in developing all of these search strategies is how they all complete a similar task in such different ways. I think that an important aspect is memory management. Specifically, in DFS and other larger searches, when I tested the code on larger mazes, I realized that I needed to get rid of a lot of \"useless\" nodes and paths in memory. As well as this, I thought that the change in how long each search took because of their individual time complexities was interesting as well. Some took longer than others eventhough their code was quite similar. I think this was the cost for finding an optimal solution rather than just a complete one."
   ]
  },
  {
   "cell_type": "markdown",
   "metadata": {},
   "source": [
    "## Graduate student advanced task: Multiple goals [10 Points]\n",
    "\n",
    "__Undergraduate students:__ This is a bonus task you can attempt if you like [+5 Bonus Points].\n",
    "\n",
    "Create a few mazes with multiple goals by adding one or two more goals to the medium size maze.\n",
    "Solve the maze with your implementations for DFS, BFS, and implement in addition IDS (iterative deepening search using DFS). \n",
    "\n",
    "Run experiments to show which implementations find the optimal solution and which do not. Discuss why that is the case."
   ]
  },
  {
   "cell_type": "markdown",
   "metadata": {},
   "source": [
    "Below, you can see the implementation for IDS using DFS. The change that I made was that it compares the node's current depth with the depth that's in the iterative search function. It does this for infinity times until it finds a goal or it cuts off."
   ]
  },
  {
   "cell_type": "code",
   "execution_count": 186,
   "metadata": {},
   "outputs": [
    {
     "name": "stdout",
     "output_type": "stream",
     "text": [
      "('CUTOFF', 0, 0, 0, 0, 1)\n"
     ]
    }
   ],
   "source": [
    "with open(\"small_maze.txt\", \"r\") as f:\n",
    "    maze_str = f.read()\n",
    "\n",
    "maze = mh.parse_maze(maze_str)\n",
    "\n",
    "def DLS(maze, depth):\n",
    "    pathCost, maxExpNodes, maxTreeDepth, maxNodesMem, maxFrontSize  = 0, 0, 0, 0, 0\n",
    "    \n",
    "    # Starting position\n",
    "    start_pos = mh.find_pos(maze, what = \"S\")\n",
    "\n",
    "    # Root node\n",
    "    initial = Node(start_pos, None, None, 0)\n",
    "\n",
    "    # Initialize frontier and initial result\n",
    "    frontier = [initial]\n",
    "    result = \"FAIL\"\n",
    "\n",
    "    while frontier:\n",
    "\n",
    "        # Checks max frontier size\n",
    "        if(len(frontier) > maxFrontSize):\n",
    "            maxFrontSize = len(frontier)\n",
    "\n",
    "        # LIFO \n",
    "        newNode = frontier.pop()\n",
    "        \n",
    "        # Check if we found the Goal\n",
    "        if mh.look(maze, newNode.pos) == 'G': \n",
    "            result = newNode\n",
    "            pathCost = len(newNode.get_path_from_root())\n",
    "            return result, pathCost, maxExpNodes, maxTreeDepth, maxNodesMem, maxFrontSize\n",
    "\n",
    "        # New addition for DLS\n",
    "        if len(newNode.get_path_from_root()) > depth:\n",
    "            result = \"CUTOFF\"\n",
    "\n",
    "        # Cycle check\n",
    "        elif not isCycle(newNode):\n",
    "            # Expand tree\n",
    "            actions = expand(maze, newNode)\n",
    "            \n",
    "            # Add to max expanded nodes\n",
    "            maxExpNodes += len(actions)\n",
    "            maxNodesMem += len(actions)\n",
    "            # Check max tree depth\n",
    "            maxTreeDepth = max(maxTreeDepth, len(newNode.get_path_from_root()))\n",
    "            \n",
    "            # Append to actions\n",
    "            for thisNode in actions:\n",
    "                frontier.append(thisNode)\n",
    "        else:\n",
    "            # Delete if there is a cycle\n",
    "            del newNode\n",
    "            maxNodesMem -= 1\n",
    "            continue\n",
    "\n",
    "    if(type(result) is str):\n",
    "        pathCost = 0\n",
    "    else:\n",
    "        pathCost = len(result.get_path_from_root())\n",
    "\n",
    "    return result, pathCost, maxExpNodes, maxTreeDepth, maxNodesMem, maxFrontSize\n",
    "\n",
    "\n",
    "def IDS(maze):\n",
    "    depth = 0\n",
    "    while depth < float(\"inf\"):\n",
    "        result = DLS(maze, depth)\n",
    "        if result[0] != \"FAIL\" or result[0] != \"CUTOFF\": return result\n",
    "        depth += 1\n",
    "\n",
    "print(IDS(maze))"
   ]
  },
  {
   "cell_type": "code",
   "execution_count": 188,
   "metadata": {},
   "outputs": [
    {
     "data": {
      "text/html": [
       "<div>\n",
       "<style scoped>\n",
       "    .dataframe tbody tr th:only-of-type {\n",
       "        vertical-align: middle;\n",
       "    }\n",
       "\n",
       "    .dataframe tbody tr th {\n",
       "        vertical-align: top;\n",
       "    }\n",
       "\n",
       "    .dataframe thead th {\n",
       "        text-align: right;\n",
       "    }\n",
       "</style>\n",
       "<table border=\"1\" class=\"dataframe\">\n",
       "  <thead>\n",
       "    <tr style=\"text-align: right;\">\n",
       "      <th></th>\n",
       "      <th>Algorithms</th>\n",
       "      <th>BFS</th>\n",
       "      <th>DFS</th>\n",
       "      <th>GBFS</th>\n",
       "      <th>A*</th>\n",
       "      <th>IDS</th>\n",
       "    </tr>\n",
       "  </thead>\n",
       "  <tbody>\n",
       "    <tr>\n",
       "      <th>0</th>\n",
       "      <td>Found a Goal?</td>\n",
       "      <td>Node - pos = (5, 15); action = West; cost = 29</td>\n",
       "      <td>Node - pos = (10, 2); action = East; cost = 43</td>\n",
       "      <td>Node - pos = (3, 15); action = West; cost = 31</td>\n",
       "      <td>Node - pos = (5, 15); action = West; cost = 29</td>\n",
       "      <td>CUTOFF</td>\n",
       "    </tr>\n",
       "    <tr>\n",
       "      <th>1</th>\n",
       "      <td>Path Cost</td>\n",
       "      <td>30</td>\n",
       "      <td>44</td>\n",
       "      <td>32</td>\n",
       "      <td>30</td>\n",
       "      <td>0</td>\n",
       "    </tr>\n",
       "    <tr>\n",
       "      <th>2</th>\n",
       "      <td># of Nodes Expanded</td>\n",
       "      <td>169</td>\n",
       "      <td>87</td>\n",
       "      <td>272</td>\n",
       "      <td>244</td>\n",
       "      <td>0</td>\n",
       "    </tr>\n",
       "    <tr>\n",
       "      <th>3</th>\n",
       "      <td>Max Tree Depth</td>\n",
       "      <td>29</td>\n",
       "      <td>43</td>\n",
       "      <td>32</td>\n",
       "      <td>29</td>\n",
       "      <td>0</td>\n",
       "    </tr>\n",
       "    <tr>\n",
       "      <th>4</th>\n",
       "      <td>Max # Nodes in Memory</td>\n",
       "      <td>169</td>\n",
       "      <td>78</td>\n",
       "      <td>272</td>\n",
       "      <td>244</td>\n",
       "      <td>0</td>\n",
       "    </tr>\n",
       "    <tr>\n",
       "      <th>5</th>\n",
       "      <td>Max Frontier Size</td>\n",
       "      <td>5</td>\n",
       "      <td>36</td>\n",
       "      <td>6</td>\n",
       "      <td>6</td>\n",
       "      <td>1</td>\n",
       "    </tr>\n",
       "  </tbody>\n",
       "</table>\n",
       "</div>"
      ],
      "text/plain": [
       "              Algorithms                                             BFS  \\\n",
       "0          Found a Goal?  Node - pos = (5, 15); action = West; cost = 29   \n",
       "1              Path Cost                                              30   \n",
       "2    # of Nodes Expanded                                             169   \n",
       "3         Max Tree Depth                                              29   \n",
       "4  Max # Nodes in Memory                                             169   \n",
       "5      Max Frontier Size                                               5   \n",
       "\n",
       "                                              DFS  \\\n",
       "0  Node - pos = (10, 2); action = East; cost = 43   \n",
       "1                                              44   \n",
       "2                                              87   \n",
       "3                                              43   \n",
       "4                                              78   \n",
       "5                                              36   \n",
       "\n",
       "                                             GBFS  \\\n",
       "0  Node - pos = (3, 15); action = West; cost = 31   \n",
       "1                                              32   \n",
       "2                                             272   \n",
       "3                                              32   \n",
       "4                                             272   \n",
       "5                                               6   \n",
       "\n",
       "                                               A*     IDS  \n",
       "0  Node - pos = (5, 15); action = West; cost = 29  CUTOFF  \n",
       "1                                              30       0  \n",
       "2                                             244       0  \n",
       "3                                              29       0  \n",
       "4                                             244       0  \n",
       "5                                               6       1  "
      ]
     },
     "execution_count": 188,
     "metadata": {},
     "output_type": "execute_result"
    }
   ],
   "source": [
    "# Your code/answer goes here\n",
    "with open(\"mult_goal.txt\", \"r\") as f:\n",
    "    maze_str = f.read()\n",
    "maze = mh.parse_maze(maze_str)\n",
    "\n",
    "BFS_output = BFS(maze)\n",
    "DFS_output = DFS(maze)\n",
    "GBFS_output = GBFS(maze)\n",
    "AStar_output = AStar(maze)\n",
    "IDS_output = IDS(maze)\n",
    "\n",
    "import numpy as np  \n",
    "import pandas as pd\n",
    "\n",
    "algorithms = {\n",
    "    \"Algorithms\": [\"Found a Goal?\",\"Path Cost\", \"# of Nodes Expanded\", \"Max Tree Depth\", \"Max # Nodes in Memory\", \"Max Frontier Size\"],\n",
    "    \"BFS\" : [BFS_output[0], BFS_output[1], BFS_output[2], BFS_output[3], BFS_output[4], BFS_output[5]],\n",
    "    \"DFS\" : [DFS_output[0], DFS_output[1], DFS_output[2], DFS_output[3], DFS_output[4], DFS_output[5]],\n",
    "    \"GBFS\" : [GBFS_output[0], GBFS_output[1], GBFS_output[2], GBFS_output[3], GBFS_output[4], GBFS_output[5]],\n",
    "    \"A*\" : [AStar_output[0], AStar_output[1], AStar_output[2], AStar_output[3], AStar_output[4], AStar_output[5]],\n",
    "    \"IDS\" : [IDS_output[0], IDS_output[1], IDS_output[2], IDS_output[3], IDS_output[4], IDS_output[5]]\n",
    "}\n",
    "\n",
    "df = pd.DataFrame(algorithms)\n",
    "df"
   ]
  },
  {
   "cell_type": "markdown",
   "metadata": {},
   "source": [
    "What I found interesting is the different goals that each search found. While IDS didn't find a goal, both BFS and A* found the fastest and most efficient goals. GBFS looked at the next best answer. DFS found a middle-level solution. I put that one there as a middle ground so finding it was kind of interesting. I also found it interesting that IDS cutoff so quickly. It didn't find a single goal with its iterations."
   ]
  },
  {
   "cell_type": "markdown",
   "metadata": {},
   "source": [
    "## More advanced tasks to think about\n",
    "\n",
    "Instead of defining each square as a state, use only intersections as states. Now the storage requirement is reduced, but the path length between two intersections can be different. If we use total path length measured as the number of squares as path cost, how can we make sure that BFS and iterative deepening search is optimal? Change the code to do so."
   ]
  },
  {
   "cell_type": "code",
   "execution_count": 118,
   "metadata": {},
   "outputs": [],
   "source": [
    "# Your code/answer goes here"
   ]
  },
  {
   "cell_type": "markdown",
   "metadata": {},
   "source": [
    "Modify your A* search to add weights (see text book) and explore how different weights influence the result."
   ]
  },
  {
   "cell_type": "code",
   "execution_count": 119,
   "metadata": {},
   "outputs": [],
   "source": [
    "# Your code/answer goes here"
   ]
  },
  {
   "cell_type": "markdown",
   "metadata": {},
   "source": [
    "What happens if the agent does not know the layout of the maze in advance (i.e., faces an unkown, only partially observable environment)? How does the environment look then (PEAS description)? How would you implement a rational agent to solve the maze? What if the agent still has a GPS device to tell the distance to the goal?"
   ]
  },
  {
   "cell_type": "code",
   "execution_count": 120,
   "metadata": {},
   "outputs": [],
   "source": [
    "# Your code/answer goes here"
   ]
  }
 ],
 "metadata": {
  "kernelspec": {
   "display_name": "Python 3 (ipykernel)",
   "language": "python",
   "name": "python3"
  },
  "language_info": {
   "codemirror_mode": {
    "name": "ipython",
    "version": 3
   },
   "file_extension": ".py",
   "mimetype": "text/x-python",
   "name": "python",
   "nbconvert_exporter": "python",
   "pygments_lexer": "ipython3",
   "version": "3.9.7"
  }
 },
 "nbformat": 4,
 "nbformat_minor": 4
}
